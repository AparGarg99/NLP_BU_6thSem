{
 "cells": [
  {
   "cell_type": "code",
   "execution_count": 1,
   "metadata": {
    "colab": {
     "base_uri": "https://localhost:8080/",
     "height": 142
    },
    "colab_type": "code",
    "id": "7NtWgbapbDIF",
    "outputId": "b7473f3b-d4e9-433c-fb92-1b37066203d8"
   },
   "outputs": [
    {
     "data": {
      "text/html": [
       "<div>\n",
       "<style scoped>\n",
       "    .dataframe tbody tr th:only-of-type {\n",
       "        vertical-align: middle;\n",
       "    }\n",
       "\n",
       "    .dataframe tbody tr th {\n",
       "        vertical-align: top;\n",
       "    }\n",
       "\n",
       "    .dataframe thead th {\n",
       "        text-align: right;\n",
       "    }\n",
       "</style>\n",
       "<table border=\"1\" class=\"dataframe\">\n",
       "  <thead>\n",
       "    <tr style=\"text-align: right;\">\n",
       "      <th></th>\n",
       "      <th>sentences</th>\n",
       "    </tr>\n",
       "  </thead>\n",
       "  <tbody>\n",
       "    <tr>\n",
       "      <td>0</td>\n",
       "      <td>I enjoy flying</td>\n",
       "    </tr>\n",
       "    <tr>\n",
       "      <td>1</td>\n",
       "      <td>I like NLP</td>\n",
       "    </tr>\n",
       "    <tr>\n",
       "      <td>2</td>\n",
       "      <td>I like deep learning</td>\n",
       "    </tr>\n",
       "  </tbody>\n",
       "</table>\n",
       "</div>"
      ],
      "text/plain": [
       "              sentences\n",
       "0        I enjoy flying\n",
       "1            I like NLP\n",
       "2  I like deep learning"
      ]
     },
     "execution_count": 1,
     "metadata": {},
     "output_type": "execute_result"
    }
   ],
   "source": [
    "import pandas as pd \n",
    "import numpy as np\n",
    "import math\n",
    "data=pd.DataFrame({\"sentences\": ['I enjoy flying','I like NLP','I like deep learning']})\n",
    "data"
   ]
  },
  {
   "cell_type": "code",
   "execution_count": 2,
   "metadata": {
    "colab": {},
    "colab_type": "code",
    "id": "HH1l4kAR0eKr"
   },
   "outputs": [],
   "source": [
    "xx=data[\"sentences\"].to_numpy()"
   ]
  },
  {
   "cell_type": "code",
   "execution_count": 3,
   "metadata": {
    "colab": {},
    "colab_type": "code",
    "id": "owigN7lborSk"
   },
   "outputs": [],
   "source": [
    "from nltk.tokenize import TreebankWordTokenizer\n",
    "uniquewords=[]\n",
    "tok1=[]\n",
    "for j in xx:\n",
    "  n=TreebankWordTokenizer().tokenize(j)\n",
    "  tok1.append(n)\n",
    "  for uw in n:\n",
    "    if uw not in uniquewords :\n",
    "        uniquewords.append(uw)"
   ]
  },
  {
   "cell_type": "code",
   "execution_count": 4,
   "metadata": {
    "colab": {
     "base_uri": "https://localhost:8080/",
     "height": 68
    },
    "colab_type": "code",
    "id": "ny8RBuKQorYa",
    "outputId": "eb6b7645-2c0a-40d7-8f5f-6104b662a77a"
   },
   "outputs": [
    {
     "data": {
      "text/plain": [
       "[['I', 'enjoy', 'flying'],\n",
       " ['I', 'like', 'NLP'],\n",
       " ['I', 'like', 'deep', 'learning']]"
      ]
     },
     "execution_count": 4,
     "metadata": {},
     "output_type": "execute_result"
    }
   ],
   "source": [
    "tok1\n"
   ]
  },
  {
   "cell_type": "code",
   "execution_count": 5,
   "metadata": {
    "colab": {
     "base_uri": "https://localhost:8080/",
     "height": 34
    },
    "colab_type": "code",
    "id": "ZbV8e4u-ordY",
    "outputId": "9e320ae2-15fa-40cd-9b2f-8fef31c00d35"
   },
   "outputs": [
    {
     "data": {
      "text/plain": [
       "['I', 'enjoy', 'flying', 'like', 'NLP', 'deep', 'learning']"
      ]
     },
     "execution_count": 5,
     "metadata": {},
     "output_type": "execute_result"
    }
   ],
   "source": [
    "uniquewords\n"
   ]
  },
  {
   "cell_type": "code",
   "execution_count": 6,
   "metadata": {
    "colab": {
     "base_uri": "https://localhost:8080/",
     "height": 297
    },
    "colab_type": "code",
    "id": "aHPLYdZ4orbZ",
    "outputId": "11b6d453-4778-4124-c6cd-0226740e8c6d"
   },
   "outputs": [
    {
     "data": {
      "text/html": [
       "<div>\n",
       "<style scoped>\n",
       "    .dataframe tbody tr th:only-of-type {\n",
       "        vertical-align: middle;\n",
       "    }\n",
       "\n",
       "    .dataframe tbody tr th {\n",
       "        vertical-align: top;\n",
       "    }\n",
       "\n",
       "    .dataframe thead th {\n",
       "        text-align: right;\n",
       "    }\n",
       "</style>\n",
       "<table border=\"1\" class=\"dataframe\">\n",
       "  <thead>\n",
       "    <tr style=\"text-align: right;\">\n",
       "      <th></th>\n",
       "      <th>0</th>\n",
       "      <th>1</th>\n",
       "      <th>2</th>\n",
       "      <th>3</th>\n",
       "      <th>4</th>\n",
       "      <th>5</th>\n",
       "      <th>6</th>\n",
       "    </tr>\n",
       "  </thead>\n",
       "  <tbody>\n",
       "    <tr>\n",
       "      <td>0</td>\n",
       "      <td>0.0</td>\n",
       "      <td>0.0</td>\n",
       "      <td>0.0</td>\n",
       "      <td>0.0</td>\n",
       "      <td>0.0</td>\n",
       "      <td>0.0</td>\n",
       "      <td>0.0</td>\n",
       "    </tr>\n",
       "    <tr>\n",
       "      <td>1</td>\n",
       "      <td>0.0</td>\n",
       "      <td>0.0</td>\n",
       "      <td>0.0</td>\n",
       "      <td>0.0</td>\n",
       "      <td>0.0</td>\n",
       "      <td>0.0</td>\n",
       "      <td>0.0</td>\n",
       "    </tr>\n",
       "    <tr>\n",
       "      <td>2</td>\n",
       "      <td>0.0</td>\n",
       "      <td>0.0</td>\n",
       "      <td>0.0</td>\n",
       "      <td>0.0</td>\n",
       "      <td>0.0</td>\n",
       "      <td>0.0</td>\n",
       "      <td>0.0</td>\n",
       "    </tr>\n",
       "    <tr>\n",
       "      <td>3</td>\n",
       "      <td>0.0</td>\n",
       "      <td>0.0</td>\n",
       "      <td>0.0</td>\n",
       "      <td>0.0</td>\n",
       "      <td>0.0</td>\n",
       "      <td>0.0</td>\n",
       "      <td>0.0</td>\n",
       "    </tr>\n",
       "    <tr>\n",
       "      <td>4</td>\n",
       "      <td>0.0</td>\n",
       "      <td>0.0</td>\n",
       "      <td>0.0</td>\n",
       "      <td>0.0</td>\n",
       "      <td>0.0</td>\n",
       "      <td>0.0</td>\n",
       "      <td>0.0</td>\n",
       "    </tr>\n",
       "    <tr>\n",
       "      <td>5</td>\n",
       "      <td>0.0</td>\n",
       "      <td>0.0</td>\n",
       "      <td>0.0</td>\n",
       "      <td>0.0</td>\n",
       "      <td>0.0</td>\n",
       "      <td>0.0</td>\n",
       "      <td>0.0</td>\n",
       "    </tr>\n",
       "    <tr>\n",
       "      <td>6</td>\n",
       "      <td>0.0</td>\n",
       "      <td>0.0</td>\n",
       "      <td>0.0</td>\n",
       "      <td>0.0</td>\n",
       "      <td>0.0</td>\n",
       "      <td>0.0</td>\n",
       "      <td>0.0</td>\n",
       "    </tr>\n",
       "  </tbody>\n",
       "</table>\n",
       "</div>"
      ],
      "text/plain": [
       "     0    1    2    3    4    5    6\n",
       "0  0.0  0.0  0.0  0.0  0.0  0.0  0.0\n",
       "1  0.0  0.0  0.0  0.0  0.0  0.0  0.0\n",
       "2  0.0  0.0  0.0  0.0  0.0  0.0  0.0\n",
       "3  0.0  0.0  0.0  0.0  0.0  0.0  0.0\n",
       "4  0.0  0.0  0.0  0.0  0.0  0.0  0.0\n",
       "5  0.0  0.0  0.0  0.0  0.0  0.0  0.0\n",
       "6  0.0  0.0  0.0  0.0  0.0  0.0  0.0"
      ]
     },
     "execution_count": 6,
     "metadata": {},
     "output_type": "execute_result"
    }
   ],
   "source": [
    "c = pd.DataFrame(np.zeros((len(uniquewords), len(uniquewords))))\n",
    "c"
   ]
  },
  {
   "cell_type": "code",
   "execution_count": 7,
   "metadata": {
    "colab": {
     "base_uri": "https://localhost:8080/",
     "height": 297
    },
    "colab_type": "code",
    "id": "8vGJY3DgorWc",
    "outputId": "711859db-4847-4fed-8d7e-4f8f784c1d2e"
   },
   "outputs": [
    {
     "data": {
      "text/html": [
       "<div>\n",
       "<style scoped>\n",
       "    .dataframe tbody tr th:only-of-type {\n",
       "        vertical-align: middle;\n",
       "    }\n",
       "\n",
       "    .dataframe tbody tr th {\n",
       "        vertical-align: top;\n",
       "    }\n",
       "\n",
       "    .dataframe thead th {\n",
       "        text-align: right;\n",
       "    }\n",
       "</style>\n",
       "<table border=\"1\" class=\"dataframe\">\n",
       "  <thead>\n",
       "    <tr style=\"text-align: right;\">\n",
       "      <th></th>\n",
       "      <th>I</th>\n",
       "      <th>enjoy</th>\n",
       "      <th>flying</th>\n",
       "      <th>like</th>\n",
       "      <th>NLP</th>\n",
       "      <th>deep</th>\n",
       "      <th>learning</th>\n",
       "    </tr>\n",
       "  </thead>\n",
       "  <tbody>\n",
       "    <tr>\n",
       "      <td>I</td>\n",
       "      <td>0.0</td>\n",
       "      <td>0.0</td>\n",
       "      <td>0.0</td>\n",
       "      <td>0.0</td>\n",
       "      <td>0.0</td>\n",
       "      <td>0.0</td>\n",
       "      <td>0.0</td>\n",
       "    </tr>\n",
       "    <tr>\n",
       "      <td>enjoy</td>\n",
       "      <td>0.0</td>\n",
       "      <td>0.0</td>\n",
       "      <td>0.0</td>\n",
       "      <td>0.0</td>\n",
       "      <td>0.0</td>\n",
       "      <td>0.0</td>\n",
       "      <td>0.0</td>\n",
       "    </tr>\n",
       "    <tr>\n",
       "      <td>flying</td>\n",
       "      <td>0.0</td>\n",
       "      <td>0.0</td>\n",
       "      <td>0.0</td>\n",
       "      <td>0.0</td>\n",
       "      <td>0.0</td>\n",
       "      <td>0.0</td>\n",
       "      <td>0.0</td>\n",
       "    </tr>\n",
       "    <tr>\n",
       "      <td>like</td>\n",
       "      <td>0.0</td>\n",
       "      <td>0.0</td>\n",
       "      <td>0.0</td>\n",
       "      <td>0.0</td>\n",
       "      <td>0.0</td>\n",
       "      <td>0.0</td>\n",
       "      <td>0.0</td>\n",
       "    </tr>\n",
       "    <tr>\n",
       "      <td>NLP</td>\n",
       "      <td>0.0</td>\n",
       "      <td>0.0</td>\n",
       "      <td>0.0</td>\n",
       "      <td>0.0</td>\n",
       "      <td>0.0</td>\n",
       "      <td>0.0</td>\n",
       "      <td>0.0</td>\n",
       "    </tr>\n",
       "    <tr>\n",
       "      <td>deep</td>\n",
       "      <td>0.0</td>\n",
       "      <td>0.0</td>\n",
       "      <td>0.0</td>\n",
       "      <td>0.0</td>\n",
       "      <td>0.0</td>\n",
       "      <td>0.0</td>\n",
       "      <td>0.0</td>\n",
       "    </tr>\n",
       "    <tr>\n",
       "      <td>learning</td>\n",
       "      <td>0.0</td>\n",
       "      <td>0.0</td>\n",
       "      <td>0.0</td>\n",
       "      <td>0.0</td>\n",
       "      <td>0.0</td>\n",
       "      <td>0.0</td>\n",
       "      <td>0.0</td>\n",
       "    </tr>\n",
       "  </tbody>\n",
       "</table>\n",
       "</div>"
      ],
      "text/plain": [
       "            I  enjoy  flying  like  NLP  deep  learning\n",
       "I         0.0    0.0     0.0   0.0  0.0   0.0       0.0\n",
       "enjoy     0.0    0.0     0.0   0.0  0.0   0.0       0.0\n",
       "flying    0.0    0.0     0.0   0.0  0.0   0.0       0.0\n",
       "like      0.0    0.0     0.0   0.0  0.0   0.0       0.0\n",
       "NLP       0.0    0.0     0.0   0.0  0.0   0.0       0.0\n",
       "deep      0.0    0.0     0.0   0.0  0.0   0.0       0.0\n",
       "learning  0.0    0.0     0.0   0.0  0.0   0.0       0.0"
      ]
     },
     "execution_count": 7,
     "metadata": {},
     "output_type": "execute_result"
    }
   ],
   "source": [
    "c.index=uniquewords\n",
    "c.columns=uniquewords\n",
    "c"
   ]
  },
  {
   "cell_type": "code",
   "execution_count": 8,
   "metadata": {
    "colab": {},
    "colab_type": "code",
    "id": "Y7ssK7hiorPq"
   },
   "outputs": [],
   "source": [
    "for i in range(c.shape[0]):\n",
    "  for j in range(c.shape[1]):\n",
    "    if(uniquewords[i]==uniquewords[j]):\n",
    "      c.loc[uniquewords[i],uniquewords[j]]=1"
   ]
  },
  {
   "cell_type": "code",
   "execution_count": 9,
   "metadata": {
    "colab": {
     "base_uri": "https://localhost:8080/",
     "height": 297
    },
    "colab_type": "code",
    "id": "R2ToSmjho3fv",
    "outputId": "0d035142-4419-475f-c71e-6268c8925d12"
   },
   "outputs": [
    {
     "data": {
      "text/html": [
       "<div>\n",
       "<style scoped>\n",
       "    .dataframe tbody tr th:only-of-type {\n",
       "        vertical-align: middle;\n",
       "    }\n",
       "\n",
       "    .dataframe tbody tr th {\n",
       "        vertical-align: top;\n",
       "    }\n",
       "\n",
       "    .dataframe thead th {\n",
       "        text-align: right;\n",
       "    }\n",
       "</style>\n",
       "<table border=\"1\" class=\"dataframe\">\n",
       "  <thead>\n",
       "    <tr style=\"text-align: right;\">\n",
       "      <th></th>\n",
       "      <th>I</th>\n",
       "      <th>enjoy</th>\n",
       "      <th>flying</th>\n",
       "      <th>like</th>\n",
       "      <th>NLP</th>\n",
       "      <th>deep</th>\n",
       "      <th>learning</th>\n",
       "    </tr>\n",
       "  </thead>\n",
       "  <tbody>\n",
       "    <tr>\n",
       "      <td>I</td>\n",
       "      <td>1.0</td>\n",
       "      <td>0.0</td>\n",
       "      <td>0.0</td>\n",
       "      <td>0.0</td>\n",
       "      <td>0.0</td>\n",
       "      <td>0.0</td>\n",
       "      <td>0.0</td>\n",
       "    </tr>\n",
       "    <tr>\n",
       "      <td>enjoy</td>\n",
       "      <td>0.0</td>\n",
       "      <td>1.0</td>\n",
       "      <td>0.0</td>\n",
       "      <td>0.0</td>\n",
       "      <td>0.0</td>\n",
       "      <td>0.0</td>\n",
       "      <td>0.0</td>\n",
       "    </tr>\n",
       "    <tr>\n",
       "      <td>flying</td>\n",
       "      <td>0.0</td>\n",
       "      <td>0.0</td>\n",
       "      <td>1.0</td>\n",
       "      <td>0.0</td>\n",
       "      <td>0.0</td>\n",
       "      <td>0.0</td>\n",
       "      <td>0.0</td>\n",
       "    </tr>\n",
       "    <tr>\n",
       "      <td>like</td>\n",
       "      <td>0.0</td>\n",
       "      <td>0.0</td>\n",
       "      <td>0.0</td>\n",
       "      <td>1.0</td>\n",
       "      <td>0.0</td>\n",
       "      <td>0.0</td>\n",
       "      <td>0.0</td>\n",
       "    </tr>\n",
       "    <tr>\n",
       "      <td>NLP</td>\n",
       "      <td>0.0</td>\n",
       "      <td>0.0</td>\n",
       "      <td>0.0</td>\n",
       "      <td>0.0</td>\n",
       "      <td>1.0</td>\n",
       "      <td>0.0</td>\n",
       "      <td>0.0</td>\n",
       "    </tr>\n",
       "    <tr>\n",
       "      <td>deep</td>\n",
       "      <td>0.0</td>\n",
       "      <td>0.0</td>\n",
       "      <td>0.0</td>\n",
       "      <td>0.0</td>\n",
       "      <td>0.0</td>\n",
       "      <td>1.0</td>\n",
       "      <td>0.0</td>\n",
       "    </tr>\n",
       "    <tr>\n",
       "      <td>learning</td>\n",
       "      <td>0.0</td>\n",
       "      <td>0.0</td>\n",
       "      <td>0.0</td>\n",
       "      <td>0.0</td>\n",
       "      <td>0.0</td>\n",
       "      <td>0.0</td>\n",
       "      <td>1.0</td>\n",
       "    </tr>\n",
       "  </tbody>\n",
       "</table>\n",
       "</div>"
      ],
      "text/plain": [
       "            I  enjoy  flying  like  NLP  deep  learning\n",
       "I         1.0    0.0     0.0   0.0  0.0   0.0       0.0\n",
       "enjoy     0.0    1.0     0.0   0.0  0.0   0.0       0.0\n",
       "flying    0.0    0.0     1.0   0.0  0.0   0.0       0.0\n",
       "like      0.0    0.0     0.0   1.0  0.0   0.0       0.0\n",
       "NLP       0.0    0.0     0.0   0.0  1.0   0.0       0.0\n",
       "deep      0.0    0.0     0.0   0.0  0.0   1.0       0.0\n",
       "learning  0.0    0.0     0.0   0.0  0.0   0.0       1.0"
      ]
     },
     "execution_count": 9,
     "metadata": {},
     "output_type": "execute_result"
    }
   ],
   "source": [
    "c"
   ]
  },
  {
   "cell_type": "code",
   "execution_count": 10,
   "metadata": {
    "colab": {},
    "colab_type": "code",
    "id": "f4H-2DfMo3q7"
   },
   "outputs": [],
   "source": [
    "window=5\n",
    "k=(window-1)/2\n",
    "tes=[0]*len(uniquewords)\n",
    "trainY=[]\n",
    "for v_s in range(len(tok1)):\n",
    "  for s_v in range(len(tok1[v_s])):\n",
    "     tes=[0]*len(uniquewords)\n",
    "     for s in range(window):\n",
    "         if(0<=s_v-2+s  and len(tok1[v_s])>s_v-2+s  and s_v-2+s!=s_v):\n",
    "           wor=tok1[v_s][s_v-2+s]\n",
    "           ind=uniquewords.index(wor)\n",
    "           tes=tes+c[uniquewords[ind]].to_numpy()\n",
    "     trainY.append([tes])      \n",
    "     #print(tes)    \n",
    "vsv=c.to_numpy()\n",
    "trainX=[]\n",
    "for v_s in range(len(tok1)):\n",
    "  for s_v in range(len(tok1[v_s])):\n",
    "    idx=uniquewords.index(tok1[v_s][s_v])\n",
    "    trainX.append([vsv[idx]])      "
   ]
  },
  {
   "cell_type": "code",
   "execution_count": 11,
   "metadata": {
    "colab": {
     "base_uri": "https://localhost:8080/",
     "height": 238
    },
    "colab_type": "code",
    "id": "h1sSm9dao3to",
    "outputId": "146180cb-1118-4427-e22b-23062abaccc7"
   },
   "outputs": [
    {
     "data": {
      "text/plain": [
       "[[array([1., 0., 0., 0., 0., 0., 0.])],\n",
       " [array([0., 1., 0., 0., 0., 0., 0.])],\n",
       " [array([0., 0., 1., 0., 0., 0., 0.])],\n",
       " [array([1., 0., 0., 0., 0., 0., 0.])],\n",
       " [array([0., 0., 0., 1., 0., 0., 0.])],\n",
       " [array([0., 0., 0., 0., 1., 0., 0.])],\n",
       " [array([1., 0., 0., 0., 0., 0., 0.])],\n",
       " [array([0., 0., 0., 1., 0., 0., 0.])],\n",
       " [array([0., 0., 0., 0., 0., 1., 0.])],\n",
       " [array([0., 0., 0., 0., 0., 0., 1.])]]"
      ]
     },
     "execution_count": 11,
     "metadata": {},
     "output_type": "execute_result"
    }
   ],
   "source": [
    "trainX"
   ]
  },
  {
   "cell_type": "code",
   "execution_count": 12,
   "metadata": {
    "colab": {
     "base_uri": "https://localhost:8080/",
     "height": 238
    },
    "colab_type": "code",
    "id": "8YQsXMKAo3lV",
    "outputId": "74c7c725-ab0f-4fda-cd9e-a50677fcabf4"
   },
   "outputs": [
    {
     "data": {
      "text/plain": [
       "[[array([0., 1., 1., 0., 0., 0., 0.])],\n",
       " [array([1., 0., 1., 0., 0., 0., 0.])],\n",
       " [array([1., 1., 0., 0., 0., 0., 0.])],\n",
       " [array([0., 0., 0., 1., 1., 0., 0.])],\n",
       " [array([1., 0., 0., 0., 1., 0., 0.])],\n",
       " [array([1., 0., 0., 1., 0., 0., 0.])],\n",
       " [array([0., 0., 0., 1., 0., 1., 0.])],\n",
       " [array([1., 0., 0., 0., 0., 1., 1.])],\n",
       " [array([1., 0., 0., 1., 0., 0., 1.])],\n",
       " [array([0., 0., 0., 1., 0., 1., 0.])]]"
      ]
     },
     "execution_count": 12,
     "metadata": {},
     "output_type": "execute_result"
    }
   ],
   "source": [
    "trainY"
   ]
  },
  {
   "cell_type": "code",
   "execution_count": 13,
   "metadata": {
    "colab": {},
    "colab_type": "code",
    "id": "ZCDihqQFrPgu"
   },
   "outputs": [],
   "source": [
    "n=len(uniquewords)\n",
    "m=5"
   ]
  },
  {
   "cell_type": "code",
   "execution_count": 14,
   "metadata": {
    "colab": {},
    "colab_type": "code",
    "id": "ZUBQBhYBo3jG"
   },
   "outputs": [],
   "source": [
    "u=np.random.rand(n, m)\n",
    "#u=np.ones([n, m])\n",
    "z=[np.ones([m])]\n",
    "v=np.random.rand(m, n)\n",
    "#v=np.ones([m, n])\n",
    "a=[np.zeros([n])]\n",
    "s=[np.zeros([n])]\n"
   ]
  },
  {
   "cell_type": "code",
   "execution_count": 15,
   "metadata": {
    "colab": {},
    "colab_type": "code",
    "id": "WEYhbqr-uuCw"
   },
   "outputs": [],
   "source": [
    "def dot(fir,sec):\n",
    "  result=np.zeros([len(fir), len(sec[0])])\n",
    "  for i in range(len(fir)):  \n",
    "    for j in range(len(sec[0])):\n",
    "        for k in range(len(sec)): \n",
    "            result[i][j] =  (fir[i][k] * sec[k][j] ) + result[i][j] \n",
    "  #print(result,\"****************************************\")          \n",
    "  return result         "
   ]
  },
  {
   "cell_type": "code",
   "execution_count": 16,
   "metadata": {
    "colab": {},
    "colab_type": "code",
    "id": "KDBBBER2rMYh"
   },
   "outputs": [],
   "source": [
    "def dotvu(a,c,b): \n",
    "  if(b==0):\n",
    "    mm,nn=n,m \n",
    "  else:\n",
    "    mm,nn=m,n  \n",
    "  xx=np.zeros([nn, mm])\n",
    "  xxt=np.zeros([mm, nn])\n",
    "  for i in range(nn):\n",
    "      [xx[i]]=dot(a,c[i])\n",
    "  for ii in range(len(xxt)):\n",
    "    for jj in range(len(xxt[0])):\n",
    "      xxt[ii][jj]=xx[jj][ii]   \n",
    "  return xxt    "
   ]
  },
  {
   "cell_type": "code",
   "execution_count": 17,
   "metadata": {
    "colab": {},
    "colab_type": "code",
    "id": "5CFqpbmS5Lc1"
   },
   "outputs": [],
   "source": [
    "\n",
    "def softmax(arra):\n",
    "  c=0\n",
    "  for j in range(len(arra[0])):\n",
    "    c=c+math.exp(arra[0][j])\n",
    "  res=[[0]*len(arra[0])]\n",
    "  for i in range(len(arra[0])):\n",
    "    res[0][i]=math.exp(arra[0][i])/c\n",
    "  return res  \n"
   ]
  },
  {
   "cell_type": "code",
   "execution_count": 18,
   "metadata": {
    "colab": {},
    "colab_type": "code",
    "id": "DPcOwE9KxGbK"
   },
   "outputs": [],
   "source": [
    "def ebys(jebyjs):\n",
    "  for i in range(n):\n",
    "    if(y[0][i]==1):\n",
    "      if(s[0][i]!=0):\n",
    "         jebyjs[0][i]=-1*(y[0][i]/s[0][i])\n",
    "    if(y[0][i]==0):\n",
    "      if(s[0][i]!=1):\n",
    "         jebyjs[0][i]=(1-y[0][i])/(1-s[0][i])    \n",
    "  return jebyjs  \n"
   ]
  },
  {
   "cell_type": "code",
   "execution_count": 19,
   "metadata": {
    "colab": {},
    "colab_type": "code",
    "id": "hCVymnp569_s"
   },
   "outputs": [],
   "source": [
    "def sbya(jsbyja):\n",
    "  for i in range(n):\n",
    "    for j in range(n):\n",
    "      if(i==j):\n",
    "       jsbyja[i][j]=s[0][i]*(1-s[0][j])\n",
    "      else:\n",
    "       jsbyja[i][j]=s[0][i]*(-s[0][j]) \n",
    "  return jsbyja"
   ]
  },
  {
   "cell_type": "code",
   "execution_count": 20,
   "metadata": {
    "colab": {},
    "colab_type": "code",
    "id": "GpLfkpGxPd47"
   },
   "outputs": [],
   "source": [
    "def abyv(jabyjv):\n",
    "  for i in range(n):\n",
    "    for j in range(i,i+1):\n",
    "      for k in range(m):\n",
    "        jabyjv[i][j][k]=z[0][k]\n",
    "  return jabyjv      \n"
   ]
  },
  {
   "cell_type": "code",
   "execution_count": 21,
   "metadata": {
    "colab": {},
    "colab_type": "code",
    "id": "6xDqCZXdUZNV"
   },
   "outputs": [],
   "source": [
    "def abyz(jabyjz):\n",
    "  for i in range(n):\n",
    "    for j in range(m):\n",
    "      jabyjz[i][j]=v[j][i]\n",
    "  return jabyjz    "
   ]
  },
  {
   "cell_type": "code",
   "execution_count": 22,
   "metadata": {
    "colab": {},
    "colab_type": "code",
    "id": "Z39QprIhV6wn"
   },
   "outputs": [],
   "source": [
    "def zbyu(jzbyju):\n",
    "  for i in range(m):\n",
    "    for j in range(i,i+1):\n",
    "      for k in range(n):\n",
    "        jzbyju[i][j][k]=x[0][k]\n",
    "  return jzbyju  "
   ]
  },
  {
   "cell_type": "code",
   "execution_count": 23,
   "metadata": {
    "colab": {},
    "colab_type": "code",
    "id": "ZOwaBOEv9Ows"
   },
   "outputs": [],
   "source": [
    "def differentiation():\n",
    "  jebyjs=[np.zeros([n])]\n",
    "  jsbyja=np.zeros([n, n])\n",
    "  jabyjv=np.zeros([n,n,m])\n",
    "  jabyjz=np.zeros([n, m])\n",
    "  jzbyju=np.zeros([m,m,n])\n",
    "  #print(ebys(jebyjs),\"     e s     **\")\n",
    "  #print(sbya(jsbyja),\"     s a     **\")\n",
    "  #print(abyv(jabyjv),\"     a v     **\")\n",
    "  #print(abyz(jabyjz),\"     a z     **\")\n",
    "  #print(zbyu(jzbyju),\"     z u     **\")\n",
    "  jebyjs,jsbyja,jabyjv,jabyjz,jzbyju=ebys(jebyjs),sbya(jsbyja),abyv(jabyjv),abyz(jabyjz),zbyu(jzbyju)\n",
    "  #print(dot(jebyjs,jsbyja),\"        essa\")\n",
    "  #print(dotvu(dot(jebyjs,jsbyja),jabyjv,1),\"      essaav\")\n",
    "  derivativev=dotvu(dot(jebyjs,jsbyja),jabyjv,1)\n",
    "  #print(dot(jebyjs,jsbyja),\"          essa \")\n",
    "  #print(dot(dot(jebyjs,jsbyja),jabyjz),\"          essaaz \")\n",
    "  #print(dotvu(dot(dot(jebyjs,jsbyja),jabyjz),jzbyju,0),\"                essazzu\")\n",
    "  derivativeu=dotvu(dot(dot(jebyjs,jsbyja),jabyjz),jzbyju,0)\n",
    "  #print(np.shape(derivativev))\n",
    "  #print(np.shape(derivativeu))\n",
    "  return [derivativev,derivativeu]\n"
   ]
  },
  {
   "cell_type": "code",
   "execution_count": null,
   "metadata": {
    "colab": {},
    "colab_type": "code",
    "id": "81RxhrmYwsbE"
   },
   "outputs": [],
   "source": []
  },
  {
   "cell_type": "code",
   "execution_count": 24,
   "metadata": {
    "colab": {
     "base_uri": "https://localhost:8080/",
     "height": 34
    },
    "colab_type": "code",
    "id": "1EBRv4h1uuGN",
    "outputId": "380865f2-d233-4383-d1a6-cf60b740938a"
   },
   "outputs": [
    {
     "name": "stdout",
     "output_type": "stream",
     "text": [
      "train  (1, 7)   * u  (7, 5)   = z  (1, 5)   * v  (5, 7)   = a  (1, 7)   = s  (1, 7)\n"
     ]
    }
   ],
   "source": [
    "print(\"train \",np.shape(trainX[0]),\"  * u \",np.shape(u),\"  = z \",np.shape(z),\"  * v \",np.shape(v),\"  = a \",np.shape(a),\"  = s \",np.shape(s))"
   ]
  },
  {
   "cell_type": "code",
   "execution_count": 25,
   "metadata": {
    "colab": {},
    "colab_type": "code",
    "id": "WzFGz14f3oLg"
   },
   "outputs": [],
   "source": [
    "no_of_inst=len(trainX)"
   ]
  },
  {
   "cell_type": "code",
   "execution_count": 26,
   "metadata": {
    "colab": {},
    "colab_type": "code",
    "id": "uwIzz1viuuUo"
   },
   "outputs": [],
   "source": [
    "epochs=1000\n",
    "for no_epochs in range(epochs):\n",
    "    for instance in range(no_of_inst):\n",
    "        z=dot(trainX[instance],u)\n",
    "        a=dot(z,v)\n",
    "        s=softmax(a)\n",
    "        x=trainX[instance]\n",
    "        y=trainY[instance]\n",
    "        #print(z,\" z    \\n\",a,\"  a    \\n\",s,\"  s    \\n\",x,\"    x    \\n\",y,\"   y    \\n\",u,\"   u    \\n\",v,\"    v   \\n\")\n",
    "        [diffv,diffu]=differentiation()\n",
    "        v=np.subtract(v,0.01*diffv)\n",
    "        u=np.subtract(u,0.01*diffu)\n",
    "    \n"
   ]
  },
  {
   "cell_type": "code",
   "execution_count": 27,
   "metadata": {
    "colab": {
     "base_uri": "https://localhost:8080/",
     "height": 187
    },
    "colab_type": "code",
    "id": "GMocioH6uuOA",
    "outputId": "7045ed40-2868-472d-f434-39e74306b0e4"
   },
   "outputs": [
    {
     "data": {
      "text/plain": [
       "array([[ 1.01199643, -1.00480717, -0.66843198,  0.47083821, -0.68049699,\n",
       "         0.60156729,  2.29041588],\n",
       "       [ 1.05726172, -1.03335879, -0.34332795,  0.3909997 ,  1.1001293 ,\n",
       "         1.57768898, -0.02139698],\n",
       "       [ 1.57674208, -0.0577365 ,  1.91341316,  1.92632243, -0.81390074,\n",
       "        -0.47720658, -0.10161925],\n",
       "       [ 2.89454027,  1.49461188,  0.27607549, -0.77922664,  0.33666586,\n",
       "        -1.12549189,  1.00343051],\n",
       "       [ 0.38092402,  1.57891294, -1.09057981,  2.29814138, -0.17522562,\n",
       "         0.48615413,  0.2495325 ]])"
      ]
     },
     "execution_count": 27,
     "metadata": {},
     "output_type": "execute_result"
    }
   ],
   "source": [
    "v"
   ]
  },
  {
   "cell_type": "code",
   "execution_count": 28,
   "metadata": {
    "colab": {
     "base_uri": "https://localhost:8080/",
     "height": 153
    },
    "colab_type": "code",
    "id": "ene_stCnuuLT",
    "outputId": "270b3917-347c-4b1c-8c6e-f513fa5613a1"
   },
   "outputs": [
    {
     "data": {
      "text/plain": [
       "array([[-1.46966047,  0.00528062,  0.10771702, -1.13754411,  0.41482142],\n",
       "       [-0.1876325 ,  0.06814988,  2.09943132,  1.12919945, -1.38419662],\n",
       "       [-0.58174942, -0.58528774,  0.2763985 ,  2.47938488,  1.27960295],\n",
       "       [ 0.85934674,  1.90150592, -0.97047261,  0.86389538, -0.52636016],\n",
       "       [ 0.75936446,  1.14738769,  2.11489233,  0.74220427,  1.64790465],\n",
       "       [ 2.2892304 ,  0.11499007,  1.06852536,  0.44791337,  1.34305336],\n",
       "       [ 0.55323572,  1.10369146,  0.10767998, -1.98688004,  1.0072361 ]])"
      ]
     },
     "execution_count": 28,
     "metadata": {},
     "output_type": "execute_result"
    }
   ],
   "source": [
    "u"
   ]
  },
  {
   "cell_type": "code",
   "execution_count": 29,
   "metadata": {
    "colab": {
     "base_uri": "https://localhost:8080/",
     "height": 153
    },
    "colab_type": "code",
    "id": "11-uoNecuuJm",
    "outputId": "191958aa-58bc-4254-cede-8931798b5e69"
   },
   "outputs": [
    {
     "data": {
      "text/plain": [
       "array([[ 0.        ,  0.        ,  0.        ,  0.        ,  0.        ],\n",
       "       [ 0.        ,  0.        ,  0.        ,  0.        ,  0.        ],\n",
       "       [ 0.        ,  0.        ,  0.        ,  0.        ,  0.        ],\n",
       "       [ 0.        ,  0.        ,  0.        ,  0.        ,  0.        ],\n",
       "       [ 0.        ,  0.        ,  0.        ,  0.        ,  0.        ],\n",
       "       [ 0.        ,  0.        ,  0.        ,  0.        ,  0.        ],\n",
       "       [-0.00407024, -0.01808017, -0.00523543,  0.03733136, -0.01774418]])"
      ]
     },
     "execution_count": 29,
     "metadata": {},
     "output_type": "execute_result"
    }
   ],
   "source": [
    "diffu"
   ]
  },
  {
   "cell_type": "code",
   "execution_count": 30,
   "metadata": {
    "colab": {
     "base_uri": "https://localhost:8080/",
     "height": 272
    },
    "colab_type": "code",
    "id": "zUF2iJoptliX",
    "outputId": "cd04d249-2c95-4990-ee23-caa09ffd52de"
   },
   "outputs": [
    {
     "data": {
      "text/plain": [
       "array([[ 2.20321404e-04,  3.25027674e-04,  7.93173823e-04,\n",
       "        -2.00106924e-03,  6.45083689e-03, -1.00483029e-02,\n",
       "         4.26001234e-03],\n",
       "       [ 4.39496032e-04,  6.48363576e-04,  1.58221917e-03,\n",
       "        -3.99172289e-03,  1.28680971e-02, -2.00443043e-02,\n",
       "         8.49785127e-03],\n",
       "       [ 4.28649349e-05,  6.32362079e-05,  1.54317028e-04,\n",
       "        -3.89320788e-04,  1.25505148e-03, -1.95496144e-03,\n",
       "         8.28812582e-04],\n",
       "       [-7.91167550e-04, -1.16716463e-03, -2.84826340e-03,\n",
       "         7.18577959e-03, -2.31647617e-02,  3.60831542e-02,\n",
       "        -1.52975765e-02],\n",
       "       [ 4.01082019e-04,  5.91693561e-04,  1.44392580e-03,\n",
       "        -3.64282760e-03,  1.17433651e-02, -1.82923381e-02,\n",
       "         7.75509924e-03]])"
      ]
     },
     "execution_count": 30,
     "metadata": {},
     "output_type": "execute_result"
    }
   ],
   "source": [
    "diffv"
   ]
  },
  {
   "cell_type": "code",
   "execution_count": null,
   "metadata": {
    "colab": {},
    "colab_type": "code",
    "id": "fx3m4RldXTdJ"
   },
   "outputs": [],
   "source": []
  },
  {
   "cell_type": "code",
   "execution_count": null,
   "metadata": {
    "colab": {},
    "colab_type": "code",
    "id": "8pfgKMfrXTZ9"
   },
   "outputs": [],
   "source": []
  }
 ],
 "metadata": {
  "colab": {
   "collapsed_sections": [],
   "name": "skipgramscratch.ipynb",
   "provenance": [],
   "toc_visible": true
  },
  "kernelspec": {
   "display_name": "Python 3",
   "language": "python",
   "name": "python3"
  },
  "language_info": {
   "codemirror_mode": {
    "name": "ipython",
    "version": 3
   },
   "file_extension": ".py",
   "mimetype": "text/x-python",
   "name": "python",
   "nbconvert_exporter": "python",
   "pygments_lexer": "ipython3",
   "version": "3.7.4"
  }
 },
 "nbformat": 4,
 "nbformat_minor": 1
}
