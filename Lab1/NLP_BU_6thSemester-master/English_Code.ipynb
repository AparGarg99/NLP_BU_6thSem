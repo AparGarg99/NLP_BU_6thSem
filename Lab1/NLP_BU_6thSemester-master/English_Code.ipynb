{
 "cells": [
  {
   "cell_type": "markdown",
   "metadata": {},
   "source": [
    "# Importing Libraries"
   ]
  },
  {
   "cell_type": "code",
   "execution_count": 41,
   "metadata": {},
   "outputs": [],
   "source": [
    "import pandas as pd\n",
    "import numpy as np\n",
    "import nltk"
   ]
  },
  {
   "cell_type": "markdown",
   "metadata": {},
   "source": [
    "# Dataset"
   ]
  },
  {
   "cell_type": "code",
   "execution_count": null,
   "metadata": {},
   "outputs": [],
   "source": [
    "df=pd.read_html('C:/Users/Apar/Desktop/india-news-headlines.csv')\n",
    "df.head()"
   ]
  },
  {
   "cell_type": "code",
   "execution_count": 25,
   "metadata": {},
   "outputs": [
    {
     "data": {
      "text/plain": [
       "(2969922, 3)"
      ]
     },
     "execution_count": 25,
     "metadata": {},
     "output_type": "execute_result"
    }
   ],
   "source": [
    "df.shape"
   ]
  },
  {
   "cell_type": "code",
   "execution_count": 26,
   "metadata": {},
   "outputs": [],
   "source": [
    "df=df.iloc[:10,-1]"
   ]
  },
  {
   "cell_type": "code",
   "execution_count": 27,
   "metadata": {},
   "outputs": [
    {
     "data": {
      "text/plain": [
       "0    win over cena satisfying but defeating underta...\n",
       "1                                          Raju Chacha\n",
       "2    Status quo will not be disturbed at Ayodhya; s...\n",
       "3                  Fissures in Hurriyat over Pak visit\n",
       "4                America's unwanted heading for India?\n",
       "5                   For bigwigs; it is destination Goa\n",
       "6                 Extra buses to clear tourist traffic\n",
       "7          Dilute the power of transfers; says Riberio\n",
       "8                    Focus shifts to teaching of Hindi\n",
       "9                 IT will become compulsory in schools\n",
       "Name: headline_text, dtype: object"
      ]
     },
     "execution_count": 27,
     "metadata": {},
     "output_type": "execute_result"
    }
   ],
   "source": [
    "df"
   ]
  },
  {
   "cell_type": "markdown",
   "metadata": {},
   "source": [
    "# Tokenize sentences"
   ]
  },
  {
   "cell_type": "code",
   "execution_count": 28,
   "metadata": {},
   "outputs": [
    {
     "name": "stdout",
     "output_type": "stream",
     "text": [
      "['win', 'over', 'cena', 'satisfying', 'but', 'defeating', 'undertaker', 'bigger', 'roman', 'reigns']\n",
      "['Raju', 'Chacha']\n",
      "['Status', 'quo', 'will', 'not', 'be', 'disturbed', 'at', 'Ayodhya;', 'says', 'Vajpayee']\n",
      "['Fissures', 'in', 'Hurriyat', 'over', 'Pak', 'visit']\n",
      "[\"America's\", 'unwanted', 'heading', 'for', 'India?']\n",
      "['For', 'bigwigs;', 'it', 'is', 'destination', 'Goa']\n",
      "['Extra', 'buses', 'to', 'clear', 'tourist', 'traffic']\n",
      "['Dilute', 'the', 'power', 'of', 'transfers;', 'says', 'Riberio']\n",
      "['Focus', 'shifts', 'to', 'teaching', 'of', 'Hindi']\n",
      "['IT', 'will', 'become', 'compulsory', 'in', 'schools']\n"
     ]
    }
   ],
   "source": [
    "from nltk.tokenize import WhitespaceTokenizer \n",
    "     \n",
    "# Create a reference variable for Class WhitespaceTokenizer \n",
    "tk = WhitespaceTokenizer() \n",
    "for i in df:\n",
    "    print(tk.tokenize(i))"
   ]
  },
  {
   "cell_type": "code",
   "execution_count": 29,
   "metadata": {},
   "outputs": [
    {
     "name": "stdout",
     "output_type": "stream",
     "text": [
      "['win', 'over', 'cena', 'satisfying', 'but', 'defeating', 'undertaker', 'bigger', 'roman', 'reigns']\n",
      "['Raju', 'Chacha']\n",
      "['Status', 'quo', 'will', 'not', 'be', 'disturbed', 'at', 'Ayodhya', ';', 'says', 'Vajpayee']\n",
      "['Fissures', 'in', 'Hurriyat', 'over', 'Pak', 'visit']\n",
      "['America', \"'\", 's', 'unwanted', 'heading', 'for', 'India', '?']\n",
      "['For', 'bigwigs', ';', 'it', 'is', 'destination', 'Goa']\n",
      "['Extra', 'buses', 'to', 'clear', 'tourist', 'traffic']\n",
      "['Dilute', 'the', 'power', 'of', 'transfers', ';', 'says', 'Riberio']\n",
      "['Focus', 'shifts', 'to', 'teaching', 'of', 'Hindi']\n",
      "['IT', 'will', 'become', 'compulsory', 'in', 'schools']\n"
     ]
    }
   ],
   "source": [
    "from nltk.tokenize import WordPunctTokenizer \n",
    "     \n",
    "# Create a reference variable for Class WordPunctTokenizer \n",
    "tk = WordPunctTokenizer()\n",
    "for i in df:\n",
    "    print(tk.tokenize(i))"
   ]
  },
  {
   "cell_type": "code",
   "execution_count": 31,
   "metadata": {},
   "outputs": [
    {
     "name": "stdout",
     "output_type": "stream",
     "text": [
      "['win', 'over', 'cena', 'satisfying', 'but', 'defeating', 'undertaker', 'bigger', 'roman', 'reigns']\n",
      "['Raju', 'Chacha']\n",
      "['Status', 'quo', 'will', 'not', 'be', 'disturbed', 'at', 'Ayodhya', ';', 'says', 'Vajpayee']\n",
      "['Fissures', 'in', 'Hurriyat', 'over', 'Pak', 'visit']\n",
      "['America', \"'s\", 'unwanted', 'heading', 'for', 'India', '?']\n",
      "['For', 'bigwigs', ';', 'it', 'is', 'destination', 'Goa']\n",
      "['Extra', 'buses', 'to', 'clear', 'tourist', 'traffic']\n",
      "['Dilute', 'the', 'power', 'of', 'transfers', ';', 'says', 'Riberio']\n",
      "['Focus', 'shifts', 'to', 'teaching', 'of', 'Hindi']\n",
      "['IT', 'will', 'become', 'compulsory', 'in', 'schools']\n"
     ]
    }
   ],
   "source": [
    "from nltk.tokenize import TreebankWordTokenizer \n",
    "     \n",
    "# Create a reference variable for Class WordPunctTokenizer \n",
    "tk = TreebankWordTokenizer()\n",
    "for i in df:\n",
    "    print(tk.tokenize(i))"
   ]
  },
  {
   "cell_type": "markdown",
   "metadata": {},
   "source": [
    "# Stemming"
   ]
  },
  {
   "cell_type": "code",
   "execution_count": 34,
   "metadata": {},
   "outputs": [
    {
     "name": "stdout",
     "output_type": "stream",
     "text": [
      "win,over,cena,satisfi,but,defeat,undertak,bigger,roman,reign,\n",
      "raju,chacha,\n",
      "statu,quo,will,not,be,disturb,at,ayodhya,;,say,vajpaye,\n",
      "fissur,in,hurriyat,over,pak,visit,\n",
      "america,'s,unwant,head,for,india,?,\n",
      "for,bigwig,;,it,is,destin,goa,\n",
      "extra,buse,to,clear,tourist,traffic,\n",
      "dilut,the,power,of,transfer,;,say,riberio,\n",
      "focu,shift,to,teach,of,hindi,\n",
      "IT,will,becom,compulsori,in,school,\n"
     ]
    }
   ],
   "source": [
    "from nltk.stem import PorterStemmer \n",
    "from nltk.tokenize import word_tokenize \n",
    "   \n",
    "ps = PorterStemmer()    \n",
    "#sentence = \"Programers program with programing languages\"\n",
    "for i in df:\n",
    "    words = word_tokenize(i) \n",
    "    for w in words: \n",
    "        print(ps.stem(w),end=\",\")\n",
    "    print()"
   ]
  },
  {
   "cell_type": "markdown",
   "metadata": {},
   "source": [
    "# Lemmatization"
   ]
  },
  {
   "cell_type": "code",
   "execution_count": 35,
   "metadata": {},
   "outputs": [
    {
     "name": "stdout",
     "output_type": "stream",
     "text": [
      "win,over,cena,satisfying,but,defeating,undertaker,bigger,roman,reign,\n",
      "Raju,Chacha,\n",
      "Status,quo,will,not,be,disturbed,at,Ayodhya,;,say,Vajpayee,\n",
      "Fissures,in,Hurriyat,over,Pak,visit,\n",
      "America,'s,unwanted,heading,for,India,?,\n",
      "For,bigwig,;,it,is,destination,Goa,\n",
      "Extra,bus,to,clear,tourist,traffic,\n",
      "Dilute,the,power,of,transfer,;,say,Riberio,\n",
      "Focus,shift,to,teaching,of,Hindi,\n",
      "IT,will,become,compulsory,in,school,\n"
     ]
    }
   ],
   "source": [
    "from nltk.stem import WordNetLemmatizer \n",
    "lemmatizer = WordNetLemmatizer()\n",
    "for i in df:\n",
    "    words = word_tokenize(i) \n",
    "    for w in words: \n",
    "        print(lemmatizer.lemmatize(w),end=\",\")\n",
    "    print()"
   ]
  },
  {
   "cell_type": "markdown",
   "metadata": {},
   "source": [
    "# BOW Feature Extraction"
   ]
  },
  {
   "cell_type": "code",
   "execution_count": 38,
   "metadata": {},
   "outputs": [
    {
     "data": {
      "text/html": [
       "<div>\n",
       "<style scoped>\n",
       "    .dataframe tbody tr th:only-of-type {\n",
       "        vertical-align: middle;\n",
       "    }\n",
       "\n",
       "    .dataframe tbody tr th {\n",
       "        vertical-align: top;\n",
       "    }\n",
       "\n",
       "    .dataframe thead th {\n",
       "        text-align: right;\n",
       "    }\n",
       "</style>\n",
       "<table border=\"1\" class=\"dataframe\">\n",
       "  <thead>\n",
       "    <tr style=\"text-align: right;\">\n",
       "      <th></th>\n",
       "      <th>america</th>\n",
       "      <th>at</th>\n",
       "      <th>ayodhya</th>\n",
       "      <th>be</th>\n",
       "      <th>become</th>\n",
       "      <th>bigger</th>\n",
       "      <th>bigwigs</th>\n",
       "      <th>buses</th>\n",
       "      <th>but</th>\n",
       "      <th>cena</th>\n",
       "      <th>...</th>\n",
       "      <th>to</th>\n",
       "      <th>tourist</th>\n",
       "      <th>traffic</th>\n",
       "      <th>transfers</th>\n",
       "      <th>undertaker</th>\n",
       "      <th>unwanted</th>\n",
       "      <th>vajpayee</th>\n",
       "      <th>visit</th>\n",
       "      <th>will</th>\n",
       "      <th>win</th>\n",
       "    </tr>\n",
       "  </thead>\n",
       "  <tbody>\n",
       "    <tr>\n",
       "      <th>0</th>\n",
       "      <td>0</td>\n",
       "      <td>0</td>\n",
       "      <td>0</td>\n",
       "      <td>0</td>\n",
       "      <td>0</td>\n",
       "      <td>1</td>\n",
       "      <td>0</td>\n",
       "      <td>0</td>\n",
       "      <td>1</td>\n",
       "      <td>1</td>\n",
       "      <td>...</td>\n",
       "      <td>0</td>\n",
       "      <td>0</td>\n",
       "      <td>0</td>\n",
       "      <td>0</td>\n",
       "      <td>1</td>\n",
       "      <td>0</td>\n",
       "      <td>0</td>\n",
       "      <td>0</td>\n",
       "      <td>0</td>\n",
       "      <td>1</td>\n",
       "    </tr>\n",
       "    <tr>\n",
       "      <th>1</th>\n",
       "      <td>0</td>\n",
       "      <td>0</td>\n",
       "      <td>0</td>\n",
       "      <td>0</td>\n",
       "      <td>0</td>\n",
       "      <td>0</td>\n",
       "      <td>0</td>\n",
       "      <td>0</td>\n",
       "      <td>0</td>\n",
       "      <td>0</td>\n",
       "      <td>...</td>\n",
       "      <td>0</td>\n",
       "      <td>0</td>\n",
       "      <td>0</td>\n",
       "      <td>0</td>\n",
       "      <td>0</td>\n",
       "      <td>0</td>\n",
       "      <td>0</td>\n",
       "      <td>0</td>\n",
       "      <td>0</td>\n",
       "      <td>0</td>\n",
       "    </tr>\n",
       "    <tr>\n",
       "      <th>2</th>\n",
       "      <td>0</td>\n",
       "      <td>1</td>\n",
       "      <td>1</td>\n",
       "      <td>1</td>\n",
       "      <td>0</td>\n",
       "      <td>0</td>\n",
       "      <td>0</td>\n",
       "      <td>0</td>\n",
       "      <td>0</td>\n",
       "      <td>0</td>\n",
       "      <td>...</td>\n",
       "      <td>0</td>\n",
       "      <td>0</td>\n",
       "      <td>0</td>\n",
       "      <td>0</td>\n",
       "      <td>0</td>\n",
       "      <td>0</td>\n",
       "      <td>1</td>\n",
       "      <td>0</td>\n",
       "      <td>1</td>\n",
       "      <td>0</td>\n",
       "    </tr>\n",
       "    <tr>\n",
       "      <th>3</th>\n",
       "      <td>0</td>\n",
       "      <td>0</td>\n",
       "      <td>0</td>\n",
       "      <td>0</td>\n",
       "      <td>0</td>\n",
       "      <td>0</td>\n",
       "      <td>0</td>\n",
       "      <td>0</td>\n",
       "      <td>0</td>\n",
       "      <td>0</td>\n",
       "      <td>...</td>\n",
       "      <td>0</td>\n",
       "      <td>0</td>\n",
       "      <td>0</td>\n",
       "      <td>0</td>\n",
       "      <td>0</td>\n",
       "      <td>0</td>\n",
       "      <td>0</td>\n",
       "      <td>1</td>\n",
       "      <td>0</td>\n",
       "      <td>0</td>\n",
       "    </tr>\n",
       "    <tr>\n",
       "      <th>4</th>\n",
       "      <td>1</td>\n",
       "      <td>0</td>\n",
       "      <td>0</td>\n",
       "      <td>0</td>\n",
       "      <td>0</td>\n",
       "      <td>0</td>\n",
       "      <td>0</td>\n",
       "      <td>0</td>\n",
       "      <td>0</td>\n",
       "      <td>0</td>\n",
       "      <td>...</td>\n",
       "      <td>0</td>\n",
       "      <td>0</td>\n",
       "      <td>0</td>\n",
       "      <td>0</td>\n",
       "      <td>0</td>\n",
       "      <td>1</td>\n",
       "      <td>0</td>\n",
       "      <td>0</td>\n",
       "      <td>0</td>\n",
       "      <td>0</td>\n",
       "    </tr>\n",
       "  </tbody>\n",
       "</table>\n",
       "<p>5 rows × 56 columns</p>\n",
       "</div>"
      ],
      "text/plain": [
       "   america  at  ayodhya  be  become  bigger  bigwigs  buses  but  cena  ...  \\\n",
       "0        0   0        0   0       0       1        0      0    1     1  ...   \n",
       "1        0   0        0   0       0       0        0      0    0     0  ...   \n",
       "2        0   1        1   1       0       0        0      0    0     0  ...   \n",
       "3        0   0        0   0       0       0        0      0    0     0  ...   \n",
       "4        1   0        0   0       0       0        0      0    0     0  ...   \n",
       "\n",
       "   to  tourist  traffic  transfers  undertaker  unwanted  vajpayee  visit  \\\n",
       "0   0        0        0          0           1         0         0      0   \n",
       "1   0        0        0          0           0         0         0      0   \n",
       "2   0        0        0          0           0         0         1      0   \n",
       "3   0        0        0          0           0         0         0      1   \n",
       "4   0        0        0          0           0         1         0      0   \n",
       "\n",
       "   will  win  \n",
       "0     0    1  \n",
       "1     0    0  \n",
       "2     1    0  \n",
       "3     0    0  \n",
       "4     0    0  \n",
       "\n",
       "[5 rows x 56 columns]"
      ]
     },
     "execution_count": 38,
     "metadata": {},
     "output_type": "execute_result"
    }
   ],
   "source": [
    "from sklearn.feature_extraction.text import CountVectorizer\n",
    "cv=CountVectorizer()\n",
    "X=cv.fit_transform(df)\n",
    "df2=pd.DataFrame(X.toarray(),columns=cv.get_feature_names())\n",
    "df2.head()"
   ]
  },
  {
   "cell_type": "markdown",
   "metadata": {},
   "source": [
    "# Tfidf Feature Extraction"
   ]
  },
  {
   "cell_type": "code",
   "execution_count": 39,
   "metadata": {},
   "outputs": [
    {
     "data": {
      "text/html": [
       "<div>\n",
       "<style scoped>\n",
       "    .dataframe tbody tr th:only-of-type {\n",
       "        vertical-align: middle;\n",
       "    }\n",
       "\n",
       "    .dataframe tbody tr th {\n",
       "        vertical-align: top;\n",
       "    }\n",
       "\n",
       "    .dataframe thead th {\n",
       "        text-align: right;\n",
       "    }\n",
       "</style>\n",
       "<table border=\"1\" class=\"dataframe\">\n",
       "  <thead>\n",
       "    <tr style=\"text-align: right;\">\n",
       "      <th></th>\n",
       "      <th>america</th>\n",
       "      <th>at</th>\n",
       "      <th>ayodhya</th>\n",
       "      <th>be</th>\n",
       "      <th>become</th>\n",
       "      <th>bigger</th>\n",
       "      <th>bigwigs</th>\n",
       "      <th>buses</th>\n",
       "      <th>but</th>\n",
       "      <th>cena</th>\n",
       "      <th>...</th>\n",
       "      <th>to</th>\n",
       "      <th>tourist</th>\n",
       "      <th>traffic</th>\n",
       "      <th>transfers</th>\n",
       "      <th>undertaker</th>\n",
       "      <th>unwanted</th>\n",
       "      <th>vajpayee</th>\n",
       "      <th>visit</th>\n",
       "      <th>will</th>\n",
       "      <th>win</th>\n",
       "    </tr>\n",
       "  </thead>\n",
       "  <tbody>\n",
       "    <tr>\n",
       "      <th>0</th>\n",
       "      <td>0.000000</td>\n",
       "      <td>0.000000</td>\n",
       "      <td>0.000000</td>\n",
       "      <td>0.000000</td>\n",
       "      <td>0.0</td>\n",
       "      <td>0.320706</td>\n",
       "      <td>0.0</td>\n",
       "      <td>0.0</td>\n",
       "      <td>0.320706</td>\n",
       "      <td>0.320706</td>\n",
       "      <td>...</td>\n",
       "      <td>0.0</td>\n",
       "      <td>0.0</td>\n",
       "      <td>0.0</td>\n",
       "      <td>0.0</td>\n",
       "      <td>0.320706</td>\n",
       "      <td>0.000000</td>\n",
       "      <td>0.000000</td>\n",
       "      <td>0.000000</td>\n",
       "      <td>0.000000</td>\n",
       "      <td>0.320706</td>\n",
       "    </tr>\n",
       "    <tr>\n",
       "      <th>1</th>\n",
       "      <td>0.000000</td>\n",
       "      <td>0.000000</td>\n",
       "      <td>0.000000</td>\n",
       "      <td>0.000000</td>\n",
       "      <td>0.0</td>\n",
       "      <td>0.000000</td>\n",
       "      <td>0.0</td>\n",
       "      <td>0.0</td>\n",
       "      <td>0.000000</td>\n",
       "      <td>0.000000</td>\n",
       "      <td>...</td>\n",
       "      <td>0.0</td>\n",
       "      <td>0.0</td>\n",
       "      <td>0.0</td>\n",
       "      <td>0.0</td>\n",
       "      <td>0.000000</td>\n",
       "      <td>0.000000</td>\n",
       "      <td>0.000000</td>\n",
       "      <td>0.000000</td>\n",
       "      <td>0.000000</td>\n",
       "      <td>0.000000</td>\n",
       "    </tr>\n",
       "    <tr>\n",
       "      <th>2</th>\n",
       "      <td>0.000000</td>\n",
       "      <td>0.325381</td>\n",
       "      <td>0.325381</td>\n",
       "      <td>0.325381</td>\n",
       "      <td>0.0</td>\n",
       "      <td>0.000000</td>\n",
       "      <td>0.0</td>\n",
       "      <td>0.0</td>\n",
       "      <td>0.000000</td>\n",
       "      <td>0.000000</td>\n",
       "      <td>...</td>\n",
       "      <td>0.0</td>\n",
       "      <td>0.0</td>\n",
       "      <td>0.0</td>\n",
       "      <td>0.0</td>\n",
       "      <td>0.000000</td>\n",
       "      <td>0.000000</td>\n",
       "      <td>0.325381</td>\n",
       "      <td>0.000000</td>\n",
       "      <td>0.276603</td>\n",
       "      <td>0.000000</td>\n",
       "    </tr>\n",
       "    <tr>\n",
       "      <th>3</th>\n",
       "      <td>0.000000</td>\n",
       "      <td>0.000000</td>\n",
       "      <td>0.000000</td>\n",
       "      <td>0.000000</td>\n",
       "      <td>0.0</td>\n",
       "      <td>0.000000</td>\n",
       "      <td>0.0</td>\n",
       "      <td>0.0</td>\n",
       "      <td>0.000000</td>\n",
       "      <td>0.000000</td>\n",
       "      <td>...</td>\n",
       "      <td>0.0</td>\n",
       "      <td>0.0</td>\n",
       "      <td>0.0</td>\n",
       "      <td>0.0</td>\n",
       "      <td>0.000000</td>\n",
       "      <td>0.000000</td>\n",
       "      <td>0.000000</td>\n",
       "      <td>0.428537</td>\n",
       "      <td>0.000000</td>\n",
       "      <td>0.000000</td>\n",
       "    </tr>\n",
       "    <tr>\n",
       "      <th>4</th>\n",
       "      <td>0.460158</td>\n",
       "      <td>0.000000</td>\n",
       "      <td>0.000000</td>\n",
       "      <td>0.000000</td>\n",
       "      <td>0.0</td>\n",
       "      <td>0.000000</td>\n",
       "      <td>0.0</td>\n",
       "      <td>0.0</td>\n",
       "      <td>0.000000</td>\n",
       "      <td>0.000000</td>\n",
       "      <td>...</td>\n",
       "      <td>0.0</td>\n",
       "      <td>0.0</td>\n",
       "      <td>0.0</td>\n",
       "      <td>0.0</td>\n",
       "      <td>0.000000</td>\n",
       "      <td>0.460158</td>\n",
       "      <td>0.000000</td>\n",
       "      <td>0.000000</td>\n",
       "      <td>0.000000</td>\n",
       "      <td>0.000000</td>\n",
       "    </tr>\n",
       "  </tbody>\n",
       "</table>\n",
       "<p>5 rows × 56 columns</p>\n",
       "</div>"
      ],
      "text/plain": [
       "    america        at   ayodhya        be  become    bigger  bigwigs  buses  \\\n",
       "0  0.000000  0.000000  0.000000  0.000000     0.0  0.320706      0.0    0.0   \n",
       "1  0.000000  0.000000  0.000000  0.000000     0.0  0.000000      0.0    0.0   \n",
       "2  0.000000  0.325381  0.325381  0.325381     0.0  0.000000      0.0    0.0   \n",
       "3  0.000000  0.000000  0.000000  0.000000     0.0  0.000000      0.0    0.0   \n",
       "4  0.460158  0.000000  0.000000  0.000000     0.0  0.000000      0.0    0.0   \n",
       "\n",
       "        but      cena  ...   to  tourist  traffic  transfers  undertaker  \\\n",
       "0  0.320706  0.320706  ...  0.0      0.0      0.0        0.0    0.320706   \n",
       "1  0.000000  0.000000  ...  0.0      0.0      0.0        0.0    0.000000   \n",
       "2  0.000000  0.000000  ...  0.0      0.0      0.0        0.0    0.000000   \n",
       "3  0.000000  0.000000  ...  0.0      0.0      0.0        0.0    0.000000   \n",
       "4  0.000000  0.000000  ...  0.0      0.0      0.0        0.0    0.000000   \n",
       "\n",
       "   unwanted  vajpayee     visit      will       win  \n",
       "0  0.000000  0.000000  0.000000  0.000000  0.320706  \n",
       "1  0.000000  0.000000  0.000000  0.000000  0.000000  \n",
       "2  0.000000  0.325381  0.000000  0.276603  0.000000  \n",
       "3  0.000000  0.000000  0.428537  0.000000  0.000000  \n",
       "4  0.460158  0.000000  0.000000  0.000000  0.000000  \n",
       "\n",
       "[5 rows x 56 columns]"
      ]
     },
     "execution_count": 39,
     "metadata": {},
     "output_type": "execute_result"
    }
   ],
   "source": [
    "from sklearn.feature_extraction.text import TfidfVectorizer\n",
    "cv=TfidfVectorizer()\n",
    "X=cv.fit_transform(df)\n",
    "df2=pd.DataFrame(X.toarray(),columns=cv.get_feature_names())\n",
    "df2.head()"
   ]
  }
 ],
 "metadata": {
  "kernelspec": {
   "display_name": "Python 3",
   "language": "python",
   "name": "python3"
  },
  "language_info": {
   "codemirror_mode": {
    "name": "ipython",
    "version": 3
   },
   "file_extension": ".py",
   "mimetype": "text/x-python",
   "name": "python",
   "nbconvert_exporter": "python",
   "pygments_lexer": "ipython3",
   "version": "3.7.4"
  }
 },
 "nbformat": 4,
 "nbformat_minor": 2
}
