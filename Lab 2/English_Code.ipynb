{
 "cells": [
  {
   "cell_type": "code",
   "execution_count": 1,
   "metadata": {},
   "outputs": [],
   "source": [
    "import nltk\n",
    "import numpy as np\n",
    "import pandas as pd\n",
    "np.set_printoptions(linewidth=120)"
   ]
  },
  {
   "cell_type": "code",
   "execution_count": 2,
   "metadata": {},
   "outputs": [],
   "source": [
    "sentences=['I enjoy flying','I like NLP','I like deep learning']"
   ]
  },
  {
   "cell_type": "code",
   "execution_count": 3,
   "metadata": {},
   "outputs": [],
   "source": [
    "vocab=list(set((\" \".join(sentences)).split()))"
   ]
  },
  {
   "cell_type": "code",
   "execution_count": 4,
   "metadata": {},
   "outputs": [],
   "source": [
    "text_data=[]\n",
    "for i in sentences:\n",
    "    text_data.append(i.split())"
   ]
  },
  {
   "cell_type": "code",
   "execution_count": 5,
   "metadata": {},
   "outputs": [],
   "source": [
    "def MinWords():\n",
    "    numWords = [len(sentence.split()) for sentence in sentences]\n",
    "    return min(numWords)"
   ]
  },
  {
   "cell_type": "code",
   "execution_count": 6,
   "metadata": {},
   "outputs": [
    {
     "data": {
      "text/plain": [
       "3"
      ]
     },
     "execution_count": 6,
     "metadata": {},
     "output_type": "execute_result"
    }
   ],
   "source": [
    "MinWords()"
   ]
  },
  {
   "cell_type": "code",
   "execution_count": 7,
   "metadata": {},
   "outputs": [],
   "source": [
    "def win_size():\n",
    "    win_size=int(input('Enter window size: '))\n",
    "    if(MinWords()<=win_size):\n",
    "        print('operation not possible,select a smaller window_size')\n",
    "        win_size()\n",
    "    else:\n",
    "        return win_size"
   ]
  },
  {
   "cell_type": "code",
   "execution_count": 8,
   "metadata": {},
   "outputs": [
    {
     "name": "stdout",
     "output_type": "stream",
     "text": [
      "Enter window size: 1\n"
     ]
    }
   ],
   "source": [
    "window_size=win_size()"
   ]
  },
  {
   "cell_type": "code",
   "execution_count": 9,
   "metadata": {},
   "outputs": [],
   "source": [
    "w=[]\n",
    "for i in sentences:\n",
    "    i=i.split(' ') #if i is list\n",
    "    for k in range(len(i)-window_size+1):\n",
    "        for l in range(k+1,k+window_size+1):\n",
    "            if l<=len(i)-1:\n",
    "                w.append([i[k],i[l]])"
   ]
  },
  {
   "cell_type": "code",
   "execution_count": 10,
   "metadata": {},
   "outputs": [
    {
     "data": {
      "text/plain": [
       "7"
      ]
     },
     "execution_count": 10,
     "metadata": {},
     "output_type": "execute_result"
    }
   ],
   "source": [
    "len(w)"
   ]
  },
  {
   "cell_type": "code",
   "execution_count": 11,
   "metadata": {},
   "outputs": [],
   "source": [
    "w1=[x[::-1] for x in w]\n",
    "w.extend(w1)"
   ]
  },
  {
   "cell_type": "code",
   "execution_count": 12,
   "metadata": {},
   "outputs": [
    {
     "data": {
      "text/plain": [
       "14"
      ]
     },
     "execution_count": 12,
     "metadata": {},
     "output_type": "execute_result"
    }
   ],
   "source": [
    "len(w)"
   ]
  },
  {
   "cell_type": "code",
   "execution_count": 13,
   "metadata": {},
   "outputs": [],
   "source": [
    "a=np.zeros((len(vocab),len(vocab)))"
   ]
  },
  {
   "cell_type": "code",
   "execution_count": 14,
   "metadata": {},
   "outputs": [],
   "source": [
    "df=pd.DataFrame(a,index=vocab,columns=vocab)"
   ]
  },
  {
   "cell_type": "code",
   "execution_count": 15,
   "metadata": {},
   "outputs": [],
   "source": [
    "for i in w:\n",
    "    df.at[i[0],i[1]]+=1"
   ]
  },
  {
   "cell_type": "code",
   "execution_count": 16,
   "metadata": {},
   "outputs": [
    {
     "name": "stdout",
     "output_type": "stream",
     "text": [
      "Matrix A is: \n",
      "\n",
      "[[0. 1. 1. 0. 0. 0. 0.]\n",
      " [1. 0. 0. 0. 0. 0. 0.]\n",
      " [1. 0. 0. 0. 1. 0. 2.]\n",
      " [0. 0. 0. 0. 0. 1. 1.]\n",
      " [0. 0. 1. 0. 0. 0. 0.]\n",
      " [0. 0. 0. 1. 0. 0. 0.]\n",
      " [0. 0. 2. 1. 0. 0. 0.]]\n",
      "************************************************************************************************************************\n",
      "Matrix U is: \n",
      "\n",
      "[[ 1.11022302e-16  4.05335466e-01  7.77156117e-16  6.53095258e-01  6.66133815e-16 -6.39663774e-01 -6.99120968e-17]\n",
      " [-1.53510165e-01  3.88578059e-16  5.47397857e-01  1.11022302e-16 -8.22672605e-01  1.11022302e-16  6.16297582e-33]\n",
      " [-9.16756682e-01 -4.44089210e-16  2.31803980e-01 -2.22044605e-16  3.25306166e-01  5.55111512e-17  1.84889275e-32]\n",
      " [-3.68770682e-01  1.09634524e-15 -8.04128411e-01  4.44089210e-16 -4.66246376e-01 -1.38777878e-16 -2.15704154e-32]\n",
      " [ 2.57313336e-17  3.47197522e-01  2.74814331e-16  1.94288659e-01  3.75168937e-16  4.18376781e-01 -8.16496581e-01]\n",
      " [ 0.00000000e+00  1.39662213e-01  0.00000000e+00 -6.73987697e-01  0.00000000e+00 -5.99640212e-01 -4.08248290e-01]\n",
      " [ 5.14626673e-17  8.34057257e-01  5.49628661e-16 -2.85410380e-01  7.50337873e-16  2.37113351e-01  4.08248290e-01]]\n",
      "************************************************************************************************************************\n",
      "Matrix Sigma is: \n",
      "\n",
      "[[2.64044708e+00 0.00000000e+00 0.00000000e+00 0.00000000e+00 0.00000000e+00 0.00000000e+00 0.00000000e+00]\n",
      " [0.00000000e+00 2.64044708e+00 0.00000000e+00 0.00000000e+00 0.00000000e+00 0.00000000e+00 0.00000000e+00]\n",
      " [0.00000000e+00 0.00000000e+00 1.19309064e+00 0.00000000e+00 0.00000000e+00 0.00000000e+00 0.00000000e+00]\n",
      " [0.00000000e+00 0.00000000e+00 0.00000000e+00 1.19309064e+00 0.00000000e+00 0.00000000e+00 0.00000000e+00]\n",
      " [0.00000000e+00 0.00000000e+00 0.00000000e+00 0.00000000e+00 7.77543546e-01 0.00000000e+00 0.00000000e+00]\n",
      " [0.00000000e+00 0.00000000e+00 0.00000000e+00 0.00000000e+00 0.00000000e+00 7.77543546e-01 0.00000000e+00]\n",
      " [0.00000000e+00 0.00000000e+00 0.00000000e+00 0.00000000e+00 0.00000000e+00 0.00000000e+00 2.28294138e-17]]\n",
      "************************************************************************************************************************\n",
      "Matrix VT is: \n",
      "\n",
      "[[-4.05335466e-01  1.11022302e-16  5.55111512e-17  0.00000000e+00 -3.47197522e-01 -1.39662213e-01 -8.34057257e-01]\n",
      " [-0.00000000e+00  1.53510165e-01  9.16756682e-01  3.68770682e-01 -2.77555756e-16  5.55111512e-16  1.38777878e-16]\n",
      " [ 6.53095258e-01  3.05311332e-16  3.33066907e-16  0.00000000e+00  1.94288659e-01 -6.73987697e-01 -2.85410380e-01]\n",
      " [-0.00000000e+00  5.47397857e-01  2.31803980e-01 -8.04128411e-01 -5.55111512e-17  3.33066907e-16  5.55111512e-17]\n",
      " [-6.39663774e-01  2.22044605e-16  3.33066907e-16 -0.00000000e+00  4.18376781e-01 -5.99640212e-01  2.37113351e-01]\n",
      " [-0.00000000e+00 -8.22672605e-01  3.25306166e-01 -4.66246376e-01  1.66533454e-16  0.00000000e+00 -1.11022302e-16]\n",
      " [ 0.00000000e+00 -2.22044605e-16  1.38777878e-17 -8.84708973e-17 -8.16496581e-01 -4.08248290e-01  4.08248290e-01]]\n"
     ]
    }
   ],
   "source": [
    "from numpy import array\n",
    "from scipy.linalg import svd\n",
    "from numpy import diag\n",
    "from numpy import dot\n",
    "# define a matrix\n",
    "A = array(df)\n",
    "print('Matrix A is: \\n')\n",
    "print(A)\n",
    "# SVD\n",
    "U, s, VT = svd(A)\n",
    "print('*'*120)\n",
    "print('Matrix U is: \\n')\n",
    "print(U)\n",
    "print('*'*120)\n",
    "Sigma = diag(s)\n",
    "print('Matrix Sigma is: \\n')\n",
    "print(Sigma)\n",
    "print('*'*120)\n",
    "print('Matrix VT is: \\n')\n",
    "print(VT)"
   ]
  },
  {
   "cell_type": "code",
   "execution_count": 17,
   "metadata": {},
   "outputs": [
    {
     "data": {
      "text/plain": [
       "((7, 7), (7, 7), (7, 7))"
      ]
     },
     "execution_count": 17,
     "metadata": {},
     "output_type": "execute_result"
    }
   ],
   "source": [
    "U.shape,Sigma.shape,VT.shape"
   ]
  },
  {
   "cell_type": "code",
   "execution_count": 18,
   "metadata": {},
   "outputs": [
    {
     "name": "stdout",
     "output_type": "stream",
     "text": [
      "Enter k: 3\n"
     ]
    }
   ],
   "source": [
    "k=int(input('Enter k: '))\n",
    "if(k>len(vocab) or k<1):\n",
    "    print('operation not possible, select a k between 1 and ',len(vocab))\n",
    "    raise SystemExit(\"Stop right there!\")"
   ]
  },
  {
   "cell_type": "code",
   "execution_count": 19,
   "metadata": {},
   "outputs": [],
   "source": [
    "U=U[:,:k]\n",
    "Sigma=Sigma[:k,:k]\n",
    "VT=VT[:k,:]"
   ]
  },
  {
   "cell_type": "code",
   "execution_count": 20,
   "metadata": {},
   "outputs": [
    {
     "data": {
      "text/plain": [
       "((7, 3), (3, 3), (3, 7))"
      ]
     },
     "execution_count": 20,
     "metadata": {},
     "output_type": "execute_result"
    }
   ],
   "source": [
    "U.shape,Sigma.shape,VT.shape"
   ]
  },
  {
   "cell_type": "code",
   "execution_count": 21,
   "metadata": {},
   "outputs": [
    {
     "data": {
      "text/html": [
       "<div>\n",
       "<style scoped>\n",
       "    .dataframe tbody tr th:only-of-type {\n",
       "        vertical-align: middle;\n",
       "    }\n",
       "\n",
       "    .dataframe tbody tr th {\n",
       "        vertical-align: top;\n",
       "    }\n",
       "\n",
       "    .dataframe thead th {\n",
       "        text-align: right;\n",
       "    }\n",
       "</style>\n",
       "<table border=\"1\" class=\"dataframe\">\n",
       "  <thead>\n",
       "    <tr style=\"text-align: right;\">\n",
       "      <th></th>\n",
       "      <th>0</th>\n",
       "      <th>1</th>\n",
       "      <th>2</th>\n",
       "    </tr>\n",
       "  </thead>\n",
       "  <tbody>\n",
       "    <tr>\n",
       "      <td>deep</td>\n",
       "      <td>1.110223e-16</td>\n",
       "      <td>4.053355e-01</td>\n",
       "      <td>7.771561e-16</td>\n",
       "    </tr>\n",
       "    <tr>\n",
       "      <td>learning</td>\n",
       "      <td>-1.535102e-01</td>\n",
       "      <td>3.885781e-16</td>\n",
       "      <td>5.473979e-01</td>\n",
       "    </tr>\n",
       "    <tr>\n",
       "      <td>like</td>\n",
       "      <td>-9.167567e-01</td>\n",
       "      <td>-4.440892e-16</td>\n",
       "      <td>2.318040e-01</td>\n",
       "    </tr>\n",
       "    <tr>\n",
       "      <td>enjoy</td>\n",
       "      <td>-3.687707e-01</td>\n",
       "      <td>1.096345e-15</td>\n",
       "      <td>-8.041284e-01</td>\n",
       "    </tr>\n",
       "    <tr>\n",
       "      <td>NLP</td>\n",
       "      <td>2.573133e-17</td>\n",
       "      <td>3.471975e-01</td>\n",
       "      <td>2.748143e-16</td>\n",
       "    </tr>\n",
       "    <tr>\n",
       "      <td>flying</td>\n",
       "      <td>0.000000e+00</td>\n",
       "      <td>1.396622e-01</td>\n",
       "      <td>0.000000e+00</td>\n",
       "    </tr>\n",
       "    <tr>\n",
       "      <td>I</td>\n",
       "      <td>5.146267e-17</td>\n",
       "      <td>8.340573e-01</td>\n",
       "      <td>5.496287e-16</td>\n",
       "    </tr>\n",
       "  </tbody>\n",
       "</table>\n",
       "</div>"
      ],
      "text/plain": [
       "                     0             1             2\n",
       "deep      1.110223e-16  4.053355e-01  7.771561e-16\n",
       "learning -1.535102e-01  3.885781e-16  5.473979e-01\n",
       "like     -9.167567e-01 -4.440892e-16  2.318040e-01\n",
       "enjoy    -3.687707e-01  1.096345e-15 -8.041284e-01\n",
       "NLP       2.573133e-17  3.471975e-01  2.748143e-16\n",
       "flying    0.000000e+00  1.396622e-01  0.000000e+00\n",
       "I         5.146267e-17  8.340573e-01  5.496287e-16"
      ]
     },
     "execution_count": 21,
     "metadata": {},
     "output_type": "execute_result"
    }
   ],
   "source": [
    "U_df=pd.DataFrame(U,index=vocab)\n",
    "U_df"
   ]
  },
  {
   "cell_type": "code",
   "execution_count": 22,
   "metadata": {},
   "outputs": [],
   "source": [
    "model={}\n",
    "c=0\n",
    "for i in list(U_df.index):\n",
    "    model[i]=list(U_df.loc[i])\n",
    "    c=c+1"
   ]
  },
  {
   "cell_type": "code",
   "execution_count": 23,
   "metadata": {},
   "outputs": [
    {
     "data": {
      "text/plain": [
       "{'deep': [1.1102230246251565e-16, 0.4053354659702686, 7.771561172376096e-16],\n",
       " 'learning': [-0.15351016479142832, 3.885780586188048e-16, 0.5473978574979734],\n",
       " 'like': [-0.9167566816845836, -4.440892098500626e-16, 0.2318039795131882],\n",
       " 'enjoy': [-0.3687706819859463, 1.096345236817342e-15, -0.804128410571644],\n",
       " 'NLP': [2.5731333637454082e-17, 0.34719752179140934, 2.7481433070500897e-16],\n",
       " 'flying': [0.0, 0.13966221294354325, 0.0],\n",
       " 'I': [5.1462667274908164e-17, 0.8340572565263618, 5.496286614100179e-16]}"
      ]
     },
     "execution_count": 23,
     "metadata": {},
     "output_type": "execute_result"
    }
   ],
   "source": [
    "model"
   ]
  },
  {
   "cell_type": "code",
   "execution_count": 29,
   "metadata": {},
   "outputs": [],
   "source": [
    "import numpy as np\n",
    "import matplotlib.pyplot as plt\n",
    "from sklearn.decomposition import PCA\n",
    "from sklearn.manifold import TSNE\n",
    "%matplotlib inline\n",
    "\n",
    "\n",
    "def display_pca_scatterplot(model, words=None, sample=0):\n",
    "    word_vectors = np.array([model[w] for w in words])\n",
    "    twodim = PCA().fit_transform(word_vectors)[:,:2]\n",
    "    plt.figure(figsize=(15,15))\n",
    "    plt.scatter(twodim[:,0], twodim[:,1], edgecolors='k', c='r')\n",
    "    for word, (x,y) in zip(words, twodim):\n",
    "        plt.text(x+0.05, y+0.05, word)\n",
    "    plt.savefig(\"test.png\")\n",
    "    plt.show()\n",
    "        \n",
    "        \n",
    "def display_tsne_scatterplot(model, words=None, sample=0):\n",
    "    word_vectors = np.array([model[w] for w in words])\n",
    "    twodim = TSNE().fit_transform(word_vectors)[:,:2]\n",
    "    plt.figure(figsize=(15,15))\n",
    "    plt.scatter(twodim[:,0], twodim[:,1], edgecolors='k', c='r')\n",
    "    for word, (x,y) in zip(words, twodim):\n",
    "        plt.text(x+0.05, y+0.05, word)\n",
    "    plt.savefig(\"test.png\")\n",
    "    plt.show()"
   ]
  },
  {
   "cell_type": "code",
   "execution_count": 30,
   "metadata": {},
   "outputs": [
    {
     "data": {
      "image/png": "[encoded data removed]",
      "text/plain": [
       "<Figure size 1080x1080 with 1 Axes>"
      ]
     },
     "metadata": {
      "needs_background": "light"
     },
     "output_type": "display_data"
    }
   ],
   "source": [
    "display_pca_scatterplot(model,list(U_df.index))"
   ]
  },
  {
   "cell_type": "code",
   "execution_count": 31,
   "metadata": {},
   "outputs": [
    {
     "data": {
      "image/png": "[encoded data removed]",
      "text/plain": [
       "<Figure size 1080x1080 with 1 Axes>"
      ]
     },
     "metadata": {
      "needs_background": "light"
     },
     "output_type": "display_data"
    }
   ],
   "source": [
    "display_tsne_scatterplot(model,list(U_df.index))"
   ]
  },
  {
   "cell_type": "code",
   "execution_count": null,
   "metadata": {},
   "outputs": [],
   "source": []
  }
 ],
 "metadata": {
  "kernelspec": {
   "display_name": "Python 3",
   "language": "python",
   "name": "python3"
  },
  "language_info": {
   "codemirror_mode": {
    "name": "ipython",
    "version": 3
   },
   "file_extension": ".py",
   "mimetype": "text/x-python",
   "name": "python",
   "nbconvert_exporter": "python",
   "pygments_lexer": "ipython3",
   "version": "3.7.4"
  }
 },
 "nbformat": 4,
 "nbformat_minor": 2
}
