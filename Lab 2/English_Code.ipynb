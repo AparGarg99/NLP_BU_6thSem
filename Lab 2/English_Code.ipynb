{
 "cells": [
  {
   "cell_type": "code",
   "execution_count": 1,
   "metadata": {},
   "outputs": [],
   "source": [
    "import nltk\n",
    "import numpy as np\n",
    "import pandas as pd\n",
    "np.set_printoptions(linewidth=120)"
   ]
  },
  {
   "cell_type": "code",
   "execution_count": 2,
   "metadata": {},
   "outputs": [],
   "source": [
    "sentences=['I enjoy flying','I like NLP','I like deep learning']"
   ]
  },
  {
   "cell_type": "code",
   "execution_count": 3,
   "metadata": {},
   "outputs": [],
   "source": [
    "vocab=list(set((\" \".join(sentences)).split()))"
   ]
  },
  {
   "cell_type": "code",
   "execution_count": 4,
   "metadata": {},
   "outputs": [],
   "source": [
    "text_data=[]\n",
    "for i in sentences:\n",
    "    text_data.append(i.split())"
   ]
  },
  {
   "cell_type": "code",
   "execution_count": 5,
   "metadata": {},
   "outputs": [],
   "source": [
    "def MinWords():\n",
    "    numWords = [len(sentence.split()) for sentence in sentences]\n",
    "    return min(numWords)"
   ]
  },
  {
   "cell_type": "code",
   "execution_count": 6,
   "metadata": {},
   "outputs": [
    {
     "data": {
      "text/plain": [
       "3"
      ]
     },
     "execution_count": 6,
     "metadata": {},
     "output_type": "execute_result"
    }
   ],
   "source": [
    "MinWords()"
   ]
  },
  {
   "cell_type": "code",
   "execution_count": 7,
   "metadata": {},
   "outputs": [],
   "source": [
    "def win_size():\n",
    "    win_size=int(input('Enter window size: '))\n",
    "    if(MinWords()<=win_size):\n",
    "        print('operation not possible,select a smaller window_size')\n",
    "        win_size()\n",
    "    else:\n",
    "        return win_size"
   ]
  },
  {
   "cell_type": "code",
   "execution_count": 8,
   "metadata": {},
   "outputs": [
    {
     "name": "stdout",
     "output_type": "stream",
     "text": [
      "Enter window size: 1\n"
     ]
    }
   ],
   "source": [
    "window_size=win_size()"
   ]
  },
  {
   "cell_type": "code",
   "execution_count": 9,
   "metadata": {},
   "outputs": [],
   "source": [
    "w=[]\n",
    "for i in sentences:\n",
    "    i=i.split(' ') #if i is list\n",
    "    for k in range(len(i)-window_size+1):\n",
    "        for l in range(k+1,k+window_size+1):\n",
    "            if l<=len(i)-1:\n",
    "                w.append([i[k],i[l]])"
   ]
  },
  {
   "cell_type": "code",
   "execution_count": 10,
   "metadata": {},
   "outputs": [
    {
     "data": {
      "text/plain": [
       "7"
      ]
     },
     "execution_count": 10,
     "metadata": {},
     "output_type": "execute_result"
    }
   ],
   "source": [
    "len(w)"
   ]
  },
  {
   "cell_type": "code",
   "execution_count": 11,
   "metadata": {},
   "outputs": [],
   "source": [
    "w1=[x[::-1] for x in w]\n",
    "w.extend(w1)"
   ]
  },
  {
   "cell_type": "code",
   "execution_count": 12,
   "metadata": {},
   "outputs": [
    {
     "data": {
      "text/plain": [
       "14"
      ]
     },
     "execution_count": 12,
     "metadata": {},
     "output_type": "execute_result"
    }
   ],
   "source": [
    "len(w)"
   ]
  },
  {
   "cell_type": "code",
   "execution_count": 13,
   "metadata": {},
   "outputs": [],
   "source": [
    "a=np.zeros((len(vocab),len(vocab)))"
   ]
  },
  {
   "cell_type": "code",
   "execution_count": 14,
   "metadata": {},
   "outputs": [],
   "source": [
    "df=pd.DataFrame(a,index=vocab,columns=vocab)"
   ]
  },
  {
   "cell_type": "code",
   "execution_count": 15,
   "metadata": {},
   "outputs": [],
   "source": [
    "for i in w:\n",
    "    df.at[i[0],i[1]]+=1"
   ]
  },
  {
   "cell_type": "code",
   "execution_count": 16,
   "metadata": {},
   "outputs": [
    {
     "data": {
      "text/html": [
       "<div>\n",
       "<style scoped>\n",
       "    .dataframe tbody tr th:only-of-type {\n",
       "        vertical-align: middle;\n",
       "    }\n",
       "\n",
       "    .dataframe tbody tr th {\n",
       "        vertical-align: top;\n",
       "    }\n",
       "\n",
       "    .dataframe thead th {\n",
       "        text-align: right;\n",
       "    }\n",
       "</style>\n",
       "<table border=\"1\" class=\"dataframe\">\n",
       "  <thead>\n",
       "    <tr style=\"text-align: right;\">\n",
       "      <th></th>\n",
       "      <th>NLP</th>\n",
       "      <th>flying</th>\n",
       "      <th>I</th>\n",
       "      <th>like</th>\n",
       "      <th>deep</th>\n",
       "      <th>learning</th>\n",
       "      <th>enjoy</th>\n",
       "    </tr>\n",
       "  </thead>\n",
       "  <tbody>\n",
       "    <tr>\n",
       "      <td>NLP</td>\n",
       "      <td>0.0</td>\n",
       "      <td>0.0</td>\n",
       "      <td>0.0</td>\n",
       "      <td>1.0</td>\n",
       "      <td>0.0</td>\n",
       "      <td>0.0</td>\n",
       "      <td>0.0</td>\n",
       "    </tr>\n",
       "    <tr>\n",
       "      <td>flying</td>\n",
       "      <td>0.0</td>\n",
       "      <td>0.0</td>\n",
       "      <td>0.0</td>\n",
       "      <td>0.0</td>\n",
       "      <td>0.0</td>\n",
       "      <td>0.0</td>\n",
       "      <td>1.0</td>\n",
       "    </tr>\n",
       "    <tr>\n",
       "      <td>I</td>\n",
       "      <td>0.0</td>\n",
       "      <td>0.0</td>\n",
       "      <td>0.0</td>\n",
       "      <td>2.0</td>\n",
       "      <td>0.0</td>\n",
       "      <td>0.0</td>\n",
       "      <td>1.0</td>\n",
       "    </tr>\n",
       "    <tr>\n",
       "      <td>like</td>\n",
       "      <td>1.0</td>\n",
       "      <td>0.0</td>\n",
       "      <td>2.0</td>\n",
       "      <td>0.0</td>\n",
       "      <td>1.0</td>\n",
       "      <td>0.0</td>\n",
       "      <td>0.0</td>\n",
       "    </tr>\n",
       "    <tr>\n",
       "      <td>deep</td>\n",
       "      <td>0.0</td>\n",
       "      <td>0.0</td>\n",
       "      <td>0.0</td>\n",
       "      <td>1.0</td>\n",
       "      <td>0.0</td>\n",
       "      <td>1.0</td>\n",
       "      <td>0.0</td>\n",
       "    </tr>\n",
       "    <tr>\n",
       "      <td>learning</td>\n",
       "      <td>0.0</td>\n",
       "      <td>0.0</td>\n",
       "      <td>0.0</td>\n",
       "      <td>0.0</td>\n",
       "      <td>1.0</td>\n",
       "      <td>0.0</td>\n",
       "      <td>0.0</td>\n",
       "    </tr>\n",
       "    <tr>\n",
       "      <td>enjoy</td>\n",
       "      <td>0.0</td>\n",
       "      <td>1.0</td>\n",
       "      <td>1.0</td>\n",
       "      <td>0.0</td>\n",
       "      <td>0.0</td>\n",
       "      <td>0.0</td>\n",
       "      <td>0.0</td>\n",
       "    </tr>\n",
       "  </tbody>\n",
       "</table>\n",
       "</div>"
      ],
      "text/plain": [
       "          NLP  flying    I  like  deep  learning  enjoy\n",
       "NLP       0.0     0.0  0.0   1.0   0.0       0.0    0.0\n",
       "flying    0.0     0.0  0.0   0.0   0.0       0.0    1.0\n",
       "I         0.0     0.0  0.0   2.0   0.0       0.0    1.0\n",
       "like      1.0     0.0  2.0   0.0   1.0       0.0    0.0\n",
       "deep      0.0     0.0  0.0   1.0   0.0       1.0    0.0\n",
       "learning  0.0     0.0  0.0   0.0   1.0       0.0    0.0\n",
       "enjoy     0.0     1.0  1.0   0.0   0.0       0.0    0.0"
      ]
     },
     "execution_count": 16,
     "metadata": {},
     "output_type": "execute_result"
    }
   ],
   "source": [
    "#Co-occurence matrix\n",
    "df"
   ]
  },
  {
   "cell_type": "code",
   "execution_count": 17,
   "metadata": {},
   "outputs": [
    {
     "name": "stdout",
     "output_type": "stream",
     "text": [
      "Matrix A is: \n",
      "\n",
      "[[0. 0. 0. 1. 0. 0. 0.]\n",
      " [0. 0. 0. 0. 0. 0. 1.]\n",
      " [0. 0. 0. 2. 0. 0. 1.]\n",
      " [1. 0. 2. 0. 1. 0. 0.]\n",
      " [0. 0. 0. 1. 0. 1. 0.]\n",
      " [0. 0. 0. 0. 1. 0. 0.]\n",
      " [0. 1. 1. 0. 0. 0. 0.]]\n",
      "************************************************************************************************************************\n",
      "Matrix U is: \n",
      "\n",
      "[[ 3.47197522e-01  0.00000000e+00  0.00000000e+00 -1.94288659e-01  0.00000000e+00  4.18376781e-01  8.16496581e-01]\n",
      " [ 1.39662213e-01 -5.55111512e-17 -9.99200722e-16  6.73987697e-01  6.66133815e-16 -5.99640212e-01  4.08248290e-01]\n",
      " [ 8.34057257e-01 -3.46944695e-18 -5.55111512e-16  2.85410380e-01  8.88178420e-16  2.37113351e-01 -4.08248290e-01]\n",
      " [-1.11022302e-16 -9.16756682e-01  2.31803980e-01 -5.55111512e-17  3.25306166e-01 -5.55111512e-17  1.11022302e-16]\n",
      " [ 4.05335466e-01  0.00000000e+00  0.00000000e+00 -6.53095258e-01  0.00000000e+00 -6.39663774e-01 -2.22044605e-16]\n",
      " [ 1.10328413e-15 -1.53510165e-01  5.47397857e-01  1.16573418e-15 -8.22672605e-01 -4.99600361e-16  2.77555756e-17]\n",
      " [-1.24900090e-16 -3.68770682e-01 -8.04128411e-01 -1.11022302e-16 -4.66246376e-01  0.00000000e+00 -5.55111512e-17]]\n",
      "************************************************************************************************************************\n",
      "Matrix Sigma is: \n",
      "\n",
      "[[2.64044708e+00 0.00000000e+00 0.00000000e+00 0.00000000e+00 0.00000000e+00 0.00000000e+00 0.00000000e+00]\n",
      " [0.00000000e+00 2.64044708e+00 0.00000000e+00 0.00000000e+00 0.00000000e+00 0.00000000e+00 0.00000000e+00]\n",
      " [0.00000000e+00 0.00000000e+00 1.19309064e+00 0.00000000e+00 0.00000000e+00 0.00000000e+00 0.00000000e+00]\n",
      " [0.00000000e+00 0.00000000e+00 0.00000000e+00 1.19309064e+00 0.00000000e+00 0.00000000e+00 0.00000000e+00]\n",
      " [0.00000000e+00 0.00000000e+00 0.00000000e+00 0.00000000e+00 7.77543546e-01 0.00000000e+00 0.00000000e+00]\n",
      " [0.00000000e+00 0.00000000e+00 0.00000000e+00 0.00000000e+00 0.00000000e+00 7.77543546e-01 0.00000000e+00]\n",
      " [0.00000000e+00 0.00000000e+00 0.00000000e+00 0.00000000e+00 0.00000000e+00 0.00000000e+00 7.40148683e-17]]\n",
      "************************************************************************************************************************\n",
      "Matrix VT is: \n",
      "\n",
      "[[-4.70321193e-17 -2.35160597e-17 -1.79789885e-16  9.16756682e-01  4.06611888e-16  1.53510165e-01  3.68770682e-01]\n",
      " [-3.47197522e-01 -1.39662213e-01 -8.34057257e-01  0.00000000e+00 -4.05335466e-01  0.00000000e+00 -1.27726169e-17]\n",
      " [ 1.94288659e-01 -6.73987697e-01 -2.85410380e-01  0.00000000e+00  6.53095258e-01  0.00000000e+00 -8.69264788e-16]\n",
      " [ 3.18020579e-17  1.59010289e-17 -4.47164300e-16 -2.31803980e-01  8.62526542e-16 -5.47397857e-01  8.04128411e-01]\n",
      " [ 4.18376781e-01 -5.99640212e-01  2.37113351e-01  0.00000000e+00 -6.39663774e-01  0.00000000e+00  8.28215591e-16]\n",
      " [-2.99843328e-16 -1.49921664e-16  3.93016088e-16  3.25306166e-01 -4.86188848e-16 -8.22672605e-01 -4.66246376e-01]\n",
      " [ 8.16496581e-01  4.08248290e-01 -4.08248290e-01  1.94289029e-16 -1.11022302e-16 -2.71947991e-16 -4.04266532e-16]]\n"
     ]
    }
   ],
   "source": [
    "from numpy import array\n",
    "from scipy.linalg import svd\n",
    "from numpy import diag\n",
    "from numpy import dot\n",
    "# define a matrix\n",
    "A = array(df)\n",
    "print('Matrix A is: \\n')\n",
    "print(A)\n",
    "# SVD\n",
    "U, s, VT = svd(A)\n",
    "print('*'*120)\n",
    "print('Matrix U is: \\n')\n",
    "print(U)\n",
    "print('*'*120)\n",
    "Sigma = diag(s)\n",
    "print('Matrix Sigma is: \\n')\n",
    "print(Sigma)\n",
    "print('*'*120)\n",
    "print('Matrix VT is: \\n')\n",
    "print(VT)"
   ]
  },
  {
   "cell_type": "code",
   "execution_count": 18,
   "metadata": {},
   "outputs": [
    {
     "data": {
      "text/plain": [
       "((7, 7), (7, 7), (7, 7))"
      ]
     },
     "execution_count": 18,
     "metadata": {},
     "output_type": "execute_result"
    }
   ],
   "source": [
    "U.shape,Sigma.shape,VT.shape"
   ]
  },
  {
   "cell_type": "code",
   "execution_count": 19,
   "metadata": {},
   "outputs": [
    {
     "name": "stdout",
     "output_type": "stream",
     "text": [
      "Enter k: 3\n"
     ]
    }
   ],
   "source": [
    "k=int(input('Enter k: '))\n",
    "if(k>len(vocab) or k<1):\n",
    "    print('operation not possible, select a k between 1 and ',len(vocab))\n",
    "    raise SystemExit(\"Stop right there!\")"
   ]
  },
  {
   "cell_type": "code",
   "execution_count": 20,
   "metadata": {},
   "outputs": [],
   "source": [
    "U=U[:,:k]\n",
    "Sigma=Sigma[:k,:k]\n",
    "VT=VT[:k,:]"
   ]
  },
  {
   "cell_type": "code",
   "execution_count": 21,
   "metadata": {},
   "outputs": [
    {
     "data": {
      "text/plain": [
       "((7, 3), (3, 3), (3, 7))"
      ]
     },
     "execution_count": 21,
     "metadata": {},
     "output_type": "execute_result"
    }
   ],
   "source": [
    "U.shape,Sigma.shape,VT.shape"
   ]
  },
  {
   "cell_type": "code",
   "execution_count": 22,
   "metadata": {},
   "outputs": [
    {
     "data": {
      "text/html": [
       "<div>\n",
       "<style scoped>\n",
       "    .dataframe tbody tr th:only-of-type {\n",
       "        vertical-align: middle;\n",
       "    }\n",
       "\n",
       "    .dataframe tbody tr th {\n",
       "        vertical-align: top;\n",
       "    }\n",
       "\n",
       "    .dataframe thead th {\n",
       "        text-align: right;\n",
       "    }\n",
       "</style>\n",
       "<table border=\"1\" class=\"dataframe\">\n",
       "  <thead>\n",
       "    <tr style=\"text-align: right;\">\n",
       "      <th></th>\n",
       "      <th>0</th>\n",
       "      <th>1</th>\n",
       "      <th>2</th>\n",
       "    </tr>\n",
       "  </thead>\n",
       "  <tbody>\n",
       "    <tr>\n",
       "      <td>NLP</td>\n",
       "      <td>3.471975e-01</td>\n",
       "      <td>0.000000e+00</td>\n",
       "      <td>0.000000e+00</td>\n",
       "    </tr>\n",
       "    <tr>\n",
       "      <td>flying</td>\n",
       "      <td>1.396622e-01</td>\n",
       "      <td>-5.551115e-17</td>\n",
       "      <td>-9.992007e-16</td>\n",
       "    </tr>\n",
       "    <tr>\n",
       "      <td>I</td>\n",
       "      <td>8.340573e-01</td>\n",
       "      <td>-3.469447e-18</td>\n",
       "      <td>-5.551115e-16</td>\n",
       "    </tr>\n",
       "    <tr>\n",
       "      <td>like</td>\n",
       "      <td>-1.110223e-16</td>\n",
       "      <td>-9.167567e-01</td>\n",
       "      <td>2.318040e-01</td>\n",
       "    </tr>\n",
       "    <tr>\n",
       "      <td>deep</td>\n",
       "      <td>4.053355e-01</td>\n",
       "      <td>0.000000e+00</td>\n",
       "      <td>0.000000e+00</td>\n",
       "    </tr>\n",
       "    <tr>\n",
       "      <td>learning</td>\n",
       "      <td>1.103284e-15</td>\n",
       "      <td>-1.535102e-01</td>\n",
       "      <td>5.473979e-01</td>\n",
       "    </tr>\n",
       "    <tr>\n",
       "      <td>enjoy</td>\n",
       "      <td>-1.249001e-16</td>\n",
       "      <td>-3.687707e-01</td>\n",
       "      <td>-8.041284e-01</td>\n",
       "    </tr>\n",
       "  </tbody>\n",
       "</table>\n",
       "</div>"
      ],
      "text/plain": [
       "                     0             1             2\n",
       "NLP       3.471975e-01  0.000000e+00  0.000000e+00\n",
       "flying    1.396622e-01 -5.551115e-17 -9.992007e-16\n",
       "I         8.340573e-01 -3.469447e-18 -5.551115e-16\n",
       "like     -1.110223e-16 -9.167567e-01  2.318040e-01\n",
       "deep      4.053355e-01  0.000000e+00  0.000000e+00\n",
       "learning  1.103284e-15 -1.535102e-01  5.473979e-01\n",
       "enjoy    -1.249001e-16 -3.687707e-01 -8.041284e-01"
      ]
     },
     "execution_count": 22,
     "metadata": {},
     "output_type": "execute_result"
    }
   ],
   "source": [
    "U_df=pd.DataFrame(U,index=vocab)\n",
    "U_df"
   ]
  },
  {
   "cell_type": "code",
   "execution_count": 23,
   "metadata": {},
   "outputs": [],
   "source": [
    "model={}\n",
    "c=0\n",
    "for i in list(U_df.index):\n",
    "    model[i]=list(U_df.loc[i])\n",
    "    c=c+1"
   ]
  },
  {
   "cell_type": "code",
   "execution_count": 24,
   "metadata": {},
   "outputs": [
    {
     "data": {
      "text/plain": [
       "{'NLP': [0.34719752179140906, 0.0, 0.0],\n",
       " 'flying': [0.13966221294354333,\n",
       "  -5.551115123125783e-17,\n",
       "  -9.992007221626409e-16],\n",
       " 'I': [0.8340572565263615, -3.469446951953614e-18, -5.551115123125783e-16],\n",
       " 'like': [-1.1102230246251565e-16, -0.9167566816845836, 0.2318039795131881],\n",
       " 'deep': [0.4053354659702687, 0.0, 0.0],\n",
       " 'learning': [1.1032841307212493e-15, -0.1535101647914284, 0.5473978574979729],\n",
       " 'enjoy': [-1.249000902703301e-16, -0.36877068198594637, -0.8041284105716443]}"
      ]
     },
     "execution_count": 24,
     "metadata": {},
     "output_type": "execute_result"
    }
   ],
   "source": [
    "model"
   ]
  },
  {
   "cell_type": "code",
   "execution_count": 25,
   "metadata": {},
   "outputs": [],
   "source": [
    "import numpy as np\n",
    "import matplotlib.pyplot as plt\n",
    "from sklearn.decomposition import PCA\n",
    "from sklearn.manifold import TSNE\n",
    "%matplotlib inline\n",
    "\n",
    "\n",
    "def display_pca_scatterplot(model, words=None, sample=0):\n",
    "    word_vectors = np.array([model[w] for w in words])\n",
    "    twodim = PCA().fit_transform(word_vectors)[:,:2]\n",
    "    plt.figure(figsize=(15,15))\n",
    "    plt.scatter(twodim[:,0], twodim[:,1], edgecolors='k', c='r')\n",
    "    for word, (x,y) in zip(words, twodim):\n",
    "        plt.text(x+0.05, y+0.05, word)\n",
    "    plt.savefig(\"test.png\")\n",
    "    plt.show()\n",
    "        \n",
    "        \n",
    "def display_tsne_scatterplot(model, words=None, sample=0):\n",
    "    word_vectors = np.array([model[w] for w in words])\n",
    "    twodim = TSNE().fit_transform(word_vectors)[:,:2]\n",
    "    plt.figure(figsize=(15,15))\n",
    "    plt.scatter(twodim[:,0], twodim[:,1], edgecolors='k', c='r')\n",
    "    for word, (x,y) in zip(words, twodim):\n",
    "        plt.text(x+0.05, y+0.05, word)\n",
    "    plt.savefig(\"test.png\")\n",
    "    plt.show()"
   ]
  },
  {
   "cell_type": "code",
   "execution_count": 26,
   "metadata": {},
   "outputs": [
    {
     "data": {
      "image/png": "[encoded data removed]",
      "text/plain": [
       "<Figure size 1080x1080 with 1 Axes>"
      ]
     },
     "metadata": {
      "needs_background": "light"
     },
     "output_type": "display_data"
    }
   ],
   "source": [
    "display_pca_scatterplot(model,list(U_df.index))"
   ]
  },
  {
   "cell_type": "code",
   "execution_count": 27,
   "metadata": {},
   "outputs": [
    {
     "data": {
      "image/png": "[encoded data removed]",
      "text/plain": [
       "<Figure size 1080x1080 with 1 Axes>"
      ]
     },
     "metadata": {
      "needs_background": "light"
     },
     "output_type": "display_data"
    }
   ],
   "source": [
    "display_tsne_scatterplot(model,list(U_df.index))"
   ]
  },
  {
   "cell_type": "code",
   "execution_count": null,
   "metadata": {},
   "outputs": [],
   "source": []
  }
 ],
 "metadata": {
  "kernelspec": {
   "display_name": "Python 3",
   "language": "python",
   "name": "python3"
  },
  "language_info": {
   "codemirror_mode": {
    "name": "ipython",
    "version": 3
   },
   "file_extension": ".py",
   "mimetype": "text/x-python",
   "name": "python",
   "nbconvert_exporter": "python",
   "pygments_lexer": "ipython3",
   "version": "3.7.4"
  }
 },
 "nbformat": 4,
 "nbformat_minor": 2
}
